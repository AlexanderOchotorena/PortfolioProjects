{
 "cells": [
  {
   "cell_type": "code",
   "execution_count": 1,
   "metadata": {},
   "outputs": [],
   "source": [
    "#Importing the nessecary libraries\n",
    "import pandas as pd \n",
    "import plotly.express as px \n",
    "import plotly.graph_objects as go\n",
    "\n",
    "#Reading the dataset\n",
    "df = pd.read_csv(r\"C:\\Users\\TheOt\\OneDrive\\Desktop\\PortfolioProjects\\Sales Analysis\\US_Regional_Sales_Data.csv\", skipinitialspace=True)\n",
    "\n",
    "#Changing the formating option to not show in scientific notation\n",
    "pd.options.display.float_format = '{:.3f}'.format"
   ]
  },
  {
   "cell_type": "code",
   "execution_count": 2,
   "metadata": {},
   "outputs": [
    {
     "data": {
      "text/html": [
       "<div>\n",
       "<style scoped>\n",
       "    .dataframe tbody tr th:only-of-type {\n",
       "        vertical-align: middle;\n",
       "    }\n",
       "\n",
       "    .dataframe tbody tr th {\n",
       "        vertical-align: top;\n",
       "    }\n",
       "\n",
       "    .dataframe thead th {\n",
       "        text-align: right;\n",
       "    }\n",
       "</style>\n",
       "<table border=\"1\" class=\"dataframe\">\n",
       "  <thead>\n",
       "    <tr style=\"text-align: right;\">\n",
       "      <th></th>\n",
       "      <th>OrderNumber</th>\n",
       "      <th>Sales Channel</th>\n",
       "      <th>WarehouseCode</th>\n",
       "      <th>ProcuredDate</th>\n",
       "      <th>OrderDate</th>\n",
       "      <th>ShipDate</th>\n",
       "      <th>DeliveryDate</th>\n",
       "      <th>CurrencyCode</th>\n",
       "      <th>_SalesTeamID</th>\n",
       "      <th>_CustomerID</th>\n",
       "      <th>_StoreID</th>\n",
       "      <th>_ProductID</th>\n",
       "      <th>Order Quantity</th>\n",
       "      <th>Discount Applied</th>\n",
       "      <th>Unit Cost</th>\n",
       "      <th>Unit Price</th>\n",
       "    </tr>\n",
       "  </thead>\n",
       "  <tbody>\n",
       "    <tr>\n",
       "      <th>0</th>\n",
       "      <td>SO - 000101</td>\n",
       "      <td>In-Store</td>\n",
       "      <td>WARE-UHY1004</td>\n",
       "      <td>31/12/17</td>\n",
       "      <td>31/5/18</td>\n",
       "      <td>14/6/18</td>\n",
       "      <td>19/6/18</td>\n",
       "      <td>USD</td>\n",
       "      <td>6</td>\n",
       "      <td>15</td>\n",
       "      <td>259</td>\n",
       "      <td>12</td>\n",
       "      <td>5</td>\n",
       "      <td>0.080</td>\n",
       "      <td>1001.180</td>\n",
       "      <td>1963.100</td>\n",
       "    </tr>\n",
       "    <tr>\n",
       "      <th>1</th>\n",
       "      <td>SO - 000102</td>\n",
       "      <td>Online</td>\n",
       "      <td>WARE-NMK1003</td>\n",
       "      <td>31/12/17</td>\n",
       "      <td>31/5/18</td>\n",
       "      <td>22/6/18</td>\n",
       "      <td>2/7/2018</td>\n",
       "      <td>USD</td>\n",
       "      <td>14</td>\n",
       "      <td>20</td>\n",
       "      <td>196</td>\n",
       "      <td>27</td>\n",
       "      <td>3</td>\n",
       "      <td>0.080</td>\n",
       "      <td>3348.660</td>\n",
       "      <td>3939.600</td>\n",
       "    </tr>\n",
       "    <tr>\n",
       "      <th>2</th>\n",
       "      <td>SO - 000103</td>\n",
       "      <td>Distributor</td>\n",
       "      <td>WARE-UHY1004</td>\n",
       "      <td>31/12/17</td>\n",
       "      <td>31/5/18</td>\n",
       "      <td>21/6/18</td>\n",
       "      <td>1/7/2018</td>\n",
       "      <td>USD</td>\n",
       "      <td>21</td>\n",
       "      <td>16</td>\n",
       "      <td>213</td>\n",
       "      <td>16</td>\n",
       "      <td>1</td>\n",
       "      <td>0.050</td>\n",
       "      <td>781.220</td>\n",
       "      <td>1775.500</td>\n",
       "    </tr>\n",
       "    <tr>\n",
       "      <th>3</th>\n",
       "      <td>SO - 000104</td>\n",
       "      <td>Wholesale</td>\n",
       "      <td>WARE-NMK1003</td>\n",
       "      <td>31/12/17</td>\n",
       "      <td>31/5/18</td>\n",
       "      <td>2/6/2018</td>\n",
       "      <td>7/6/2018</td>\n",
       "      <td>USD</td>\n",
       "      <td>28</td>\n",
       "      <td>48</td>\n",
       "      <td>107</td>\n",
       "      <td>23</td>\n",
       "      <td>8</td>\n",
       "      <td>0.080</td>\n",
       "      <td>1464.690</td>\n",
       "      <td>2324.900</td>\n",
       "    </tr>\n",
       "    <tr>\n",
       "      <th>4</th>\n",
       "      <td>SO - 000105</td>\n",
       "      <td>Distributor</td>\n",
       "      <td>WARE-NMK1003</td>\n",
       "      <td>10/4/2018</td>\n",
       "      <td>31/5/18</td>\n",
       "      <td>16/6/18</td>\n",
       "      <td>26/6/18</td>\n",
       "      <td>USD</td>\n",
       "      <td>22</td>\n",
       "      <td>49</td>\n",
       "      <td>111</td>\n",
       "      <td>26</td>\n",
       "      <td>8</td>\n",
       "      <td>0.100</td>\n",
       "      <td>1476.140</td>\n",
       "      <td>1822.400</td>\n",
       "    </tr>\n",
       "    <tr>\n",
       "      <th>5</th>\n",
       "      <td>SO - 000106</td>\n",
       "      <td>Online</td>\n",
       "      <td>WARE-PUJ1005</td>\n",
       "      <td>31/12/17</td>\n",
       "      <td>31/5/18</td>\n",
       "      <td>8/6/2018</td>\n",
       "      <td>13/6/18</td>\n",
       "      <td>USD</td>\n",
       "      <td>12</td>\n",
       "      <td>21</td>\n",
       "      <td>285</td>\n",
       "      <td>1</td>\n",
       "      <td>5</td>\n",
       "      <td>0.050</td>\n",
       "      <td>446.560</td>\n",
       "      <td>1038.500</td>\n",
       "    </tr>\n",
       "    <tr>\n",
       "      <th>6</th>\n",
       "      <td>SO - 000107</td>\n",
       "      <td>In-Store</td>\n",
       "      <td>WARE-XYS1001</td>\n",
       "      <td>31/12/17</td>\n",
       "      <td>31/5/18</td>\n",
       "      <td>8/6/2018</td>\n",
       "      <td>14/6/18</td>\n",
       "      <td>USD</td>\n",
       "      <td>10</td>\n",
       "      <td>14</td>\n",
       "      <td>6</td>\n",
       "      <td>5</td>\n",
       "      <td>4</td>\n",
       "      <td>0.150</td>\n",
       "      <td>536.670</td>\n",
       "      <td>1192.600</td>\n",
       "    </tr>\n",
       "    <tr>\n",
       "      <th>7</th>\n",
       "      <td>SO - 000108</td>\n",
       "      <td>In-Store</td>\n",
       "      <td>WARE-PUJ1005</td>\n",
       "      <td>10/4/2018</td>\n",
       "      <td>31/5/18</td>\n",
       "      <td>26/6/18</td>\n",
       "      <td>1/7/2018</td>\n",
       "      <td>USD</td>\n",
       "      <td>6</td>\n",
       "      <td>9</td>\n",
       "      <td>280</td>\n",
       "      <td>46</td>\n",
       "      <td>5</td>\n",
       "      <td>0.050</td>\n",
       "      <td>1525.190</td>\n",
       "      <td>1815.700</td>\n",
       "    </tr>\n",
       "    <tr>\n",
       "      <th>8</th>\n",
       "      <td>SO - 000109</td>\n",
       "      <td>In-Store</td>\n",
       "      <td>WARE-PUJ1005</td>\n",
       "      <td>31/12/17</td>\n",
       "      <td>1/6/2018</td>\n",
       "      <td>16/6/18</td>\n",
       "      <td>21/6/18</td>\n",
       "      <td>USD</td>\n",
       "      <td>4</td>\n",
       "      <td>9</td>\n",
       "      <td>299</td>\n",
       "      <td>47</td>\n",
       "      <td>4</td>\n",
       "      <td>0.300</td>\n",
       "      <td>2211.200</td>\n",
       "      <td>3879.300</td>\n",
       "    </tr>\n",
       "    <tr>\n",
       "      <th>9</th>\n",
       "      <td>SO - 000110</td>\n",
       "      <td>In-Store</td>\n",
       "      <td>WARE-UHY1004</td>\n",
       "      <td>31/12/17</td>\n",
       "      <td>1/6/2018</td>\n",
       "      <td>29/6/18</td>\n",
       "      <td>1/7/2018</td>\n",
       "      <td>USD</td>\n",
       "      <td>10</td>\n",
       "      <td>33</td>\n",
       "      <td>261</td>\n",
       "      <td>13</td>\n",
       "      <td>8</td>\n",
       "      <td>0.050</td>\n",
       "      <td>1212.970</td>\n",
       "      <td>1956.400</td>\n",
       "    </tr>\n",
       "  </tbody>\n",
       "</table>\n",
       "</div>"
      ],
      "text/plain": [
       "   OrderNumber Sales Channel WarehouseCode ProcuredDate OrderDate  ShipDate  \\\n",
       "0  SO - 000101      In-Store  WARE-UHY1004     31/12/17   31/5/18   14/6/18   \n",
       "1  SO - 000102        Online  WARE-NMK1003     31/12/17   31/5/18   22/6/18   \n",
       "2  SO - 000103   Distributor  WARE-UHY1004     31/12/17   31/5/18   21/6/18   \n",
       "3  SO - 000104     Wholesale  WARE-NMK1003     31/12/17   31/5/18  2/6/2018   \n",
       "4  SO - 000105   Distributor  WARE-NMK1003    10/4/2018   31/5/18   16/6/18   \n",
       "5  SO - 000106        Online  WARE-PUJ1005     31/12/17   31/5/18  8/6/2018   \n",
       "6  SO - 000107      In-Store  WARE-XYS1001     31/12/17   31/5/18  8/6/2018   \n",
       "7  SO - 000108      In-Store  WARE-PUJ1005    10/4/2018   31/5/18   26/6/18   \n",
       "8  SO - 000109      In-Store  WARE-PUJ1005     31/12/17  1/6/2018   16/6/18   \n",
       "9  SO - 000110      In-Store  WARE-UHY1004     31/12/17  1/6/2018   29/6/18   \n",
       "\n",
       "  DeliveryDate CurrencyCode  _SalesTeamID  _CustomerID  _StoreID  _ProductID  \\\n",
       "0      19/6/18          USD             6           15       259          12   \n",
       "1     2/7/2018          USD            14           20       196          27   \n",
       "2     1/7/2018          USD            21           16       213          16   \n",
       "3     7/6/2018          USD            28           48       107          23   \n",
       "4      26/6/18          USD            22           49       111          26   \n",
       "5      13/6/18          USD            12           21       285           1   \n",
       "6      14/6/18          USD            10           14         6           5   \n",
       "7     1/7/2018          USD             6            9       280          46   \n",
       "8      21/6/18          USD             4            9       299          47   \n",
       "9     1/7/2018          USD            10           33       261          13   \n",
       "\n",
       "   Order Quantity  Discount Applied  Unit Cost  Unit Price  \n",
       "0               5             0.080   1001.180    1963.100  \n",
       "1               3             0.080   3348.660    3939.600  \n",
       "2               1             0.050    781.220    1775.500  \n",
       "3               8             0.080   1464.690    2324.900  \n",
       "4               8             0.100   1476.140    1822.400  \n",
       "5               5             0.050    446.560    1038.500  \n",
       "6               4             0.150    536.670    1192.600  \n",
       "7               5             0.050   1525.190    1815.700  \n",
       "8               4             0.300   2211.200    3879.300  \n",
       "9               8             0.050   1212.970    1956.400  "
      ]
     },
     "execution_count": 2,
     "metadata": {},
     "output_type": "execute_result"
    }
   ],
   "source": [
    "#Taking a look at the dataset\n",
    "df.head(10)"
   ]
  },
  {
   "cell_type": "code",
   "execution_count": 3,
   "metadata": {},
   "outputs": [
    {
     "data": {
      "text/plain": [
       "OrderNumber         0\n",
       "Sales Channel       0\n",
       "WarehouseCode       0\n",
       "ProcuredDate        0\n",
       "OrderDate           0\n",
       "ShipDate            0\n",
       "DeliveryDate        0\n",
       "CurrencyCode        0\n",
       "_SalesTeamID        0\n",
       "_CustomerID         0\n",
       "_StoreID            0\n",
       "_ProductID          0\n",
       "Order Quantity      0\n",
       "Discount Applied    0\n",
       "Unit Cost           0\n",
       "Unit Price          0\n",
       "dtype: int64"
      ]
     },
     "execution_count": 3,
     "metadata": {},
     "output_type": "execute_result"
    }
   ],
   "source": [
    "#Finding if there is any Null values, Perfect No Nulls\n",
    "missing_values = df.isnull().sum()\n",
    "missing_values"
   ]
  },
  {
   "cell_type": "code",
   "execution_count": 4,
   "metadata": {},
   "outputs": [
    {
     "name": "stdout",
     "output_type": "stream",
     "text": [
      "<class 'pandas.core.frame.DataFrame'>\n",
      "RangeIndex: 7991 entries, 0 to 7990\n",
      "Data columns (total 16 columns):\n",
      " #   Column            Non-Null Count  Dtype  \n",
      "---  ------            --------------  -----  \n",
      " 0   OrderNumber       7991 non-null   object \n",
      " 1   Sales Channel     7991 non-null   object \n",
      " 2   WarehouseCode     7991 non-null   object \n",
      " 3   ProcuredDate      7991 non-null   object \n",
      " 4   OrderDate         7991 non-null   object \n",
      " 5   ShipDate          7991 non-null   object \n",
      " 6   DeliveryDate      7991 non-null   object \n",
      " 7   CurrencyCode      7991 non-null   object \n",
      " 8   _SalesTeamID      7991 non-null   int64  \n",
      " 9   _CustomerID       7991 non-null   int64  \n",
      " 10  _StoreID          7991 non-null   int64  \n",
      " 11  _ProductID        7991 non-null   int64  \n",
      " 12  Order Quantity    7991 non-null   int64  \n",
      " 13  Discount Applied  7991 non-null   float64\n",
      " 14  Unit Cost         7991 non-null   float64\n",
      " 15  Unit Price        7991 non-null   float64\n",
      "dtypes: float64(3), int64(5), object(8)\n",
      "memory usage: 999.0+ KB\n"
     ]
    }
   ],
   "source": [
    "#looking to see what Data types the columns are\n",
    "df.info()"
   ]
  },
  {
   "cell_type": "code",
   "execution_count": 5,
   "metadata": {},
   "outputs": [
    {
     "data": {
      "text/html": [
       "<div>\n",
       "<style scoped>\n",
       "    .dataframe tbody tr th:only-of-type {\n",
       "        vertical-align: middle;\n",
       "    }\n",
       "\n",
       "    .dataframe tbody tr th {\n",
       "        vertical-align: top;\n",
       "    }\n",
       "\n",
       "    .dataframe thead th {\n",
       "        text-align: right;\n",
       "    }\n",
       "</style>\n",
       "<table border=\"1\" class=\"dataframe\">\n",
       "  <thead>\n",
       "    <tr style=\"text-align: right;\">\n",
       "      <th></th>\n",
       "      <th>OrderNumber</th>\n",
       "      <th>Sales Channel</th>\n",
       "      <th>WarehouseCode</th>\n",
       "      <th>ProcuredDate</th>\n",
       "      <th>OrderDate</th>\n",
       "      <th>ShipDate</th>\n",
       "      <th>DeliveryDate</th>\n",
       "      <th>CurrencyCode</th>\n",
       "      <th>_SalesTeamID</th>\n",
       "      <th>_CustomerID</th>\n",
       "      <th>_StoreID</th>\n",
       "      <th>_ProductID</th>\n",
       "      <th>Order Quantity</th>\n",
       "      <th>Discount Applied</th>\n",
       "      <th>Unit Cost</th>\n",
       "      <th>Unit Price</th>\n",
       "    </tr>\n",
       "  </thead>\n",
       "  <tbody>\n",
       "    <tr>\n",
       "      <th>0</th>\n",
       "      <td>SO - 000101</td>\n",
       "      <td>In-Store</td>\n",
       "      <td>WARE-UHY1004</td>\n",
       "      <td>2017-12-31</td>\n",
       "      <td>2018-05-31</td>\n",
       "      <td>2018-06-14</td>\n",
       "      <td>2018-06-19</td>\n",
       "      <td>USD</td>\n",
       "      <td>6</td>\n",
       "      <td>15</td>\n",
       "      <td>259</td>\n",
       "      <td>12</td>\n",
       "      <td>5</td>\n",
       "      <td>0.080</td>\n",
       "      <td>1001.180</td>\n",
       "      <td>1963.100</td>\n",
       "    </tr>\n",
       "    <tr>\n",
       "      <th>1</th>\n",
       "      <td>SO - 000102</td>\n",
       "      <td>Online</td>\n",
       "      <td>WARE-NMK1003</td>\n",
       "      <td>2017-12-31</td>\n",
       "      <td>2018-05-31</td>\n",
       "      <td>2018-06-22</td>\n",
       "      <td>2018-02-07</td>\n",
       "      <td>USD</td>\n",
       "      <td>14</td>\n",
       "      <td>20</td>\n",
       "      <td>196</td>\n",
       "      <td>27</td>\n",
       "      <td>3</td>\n",
       "      <td>0.080</td>\n",
       "      <td>3348.660</td>\n",
       "      <td>3939.600</td>\n",
       "    </tr>\n",
       "    <tr>\n",
       "      <th>2</th>\n",
       "      <td>SO - 000103</td>\n",
       "      <td>Distributor</td>\n",
       "      <td>WARE-UHY1004</td>\n",
       "      <td>2017-12-31</td>\n",
       "      <td>2018-05-31</td>\n",
       "      <td>2018-06-21</td>\n",
       "      <td>2018-01-07</td>\n",
       "      <td>USD</td>\n",
       "      <td>21</td>\n",
       "      <td>16</td>\n",
       "      <td>213</td>\n",
       "      <td>16</td>\n",
       "      <td>1</td>\n",
       "      <td>0.050</td>\n",
       "      <td>781.220</td>\n",
       "      <td>1775.500</td>\n",
       "    </tr>\n",
       "    <tr>\n",
       "      <th>3</th>\n",
       "      <td>SO - 000104</td>\n",
       "      <td>Wholesale</td>\n",
       "      <td>WARE-NMK1003</td>\n",
       "      <td>2017-12-31</td>\n",
       "      <td>2018-05-31</td>\n",
       "      <td>2018-02-06</td>\n",
       "      <td>2018-07-06</td>\n",
       "      <td>USD</td>\n",
       "      <td>28</td>\n",
       "      <td>48</td>\n",
       "      <td>107</td>\n",
       "      <td>23</td>\n",
       "      <td>8</td>\n",
       "      <td>0.080</td>\n",
       "      <td>1464.690</td>\n",
       "      <td>2324.900</td>\n",
       "    </tr>\n",
       "    <tr>\n",
       "      <th>4</th>\n",
       "      <td>SO - 000105</td>\n",
       "      <td>Distributor</td>\n",
       "      <td>WARE-NMK1003</td>\n",
       "      <td>2018-10-04</td>\n",
       "      <td>2018-05-31</td>\n",
       "      <td>2018-06-16</td>\n",
       "      <td>2018-06-26</td>\n",
       "      <td>USD</td>\n",
       "      <td>22</td>\n",
       "      <td>49</td>\n",
       "      <td>111</td>\n",
       "      <td>26</td>\n",
       "      <td>8</td>\n",
       "      <td>0.100</td>\n",
       "      <td>1476.140</td>\n",
       "      <td>1822.400</td>\n",
       "    </tr>\n",
       "    <tr>\n",
       "      <th>5</th>\n",
       "      <td>SO - 000106</td>\n",
       "      <td>Online</td>\n",
       "      <td>WARE-PUJ1005</td>\n",
       "      <td>2017-12-31</td>\n",
       "      <td>2018-05-31</td>\n",
       "      <td>2018-08-06</td>\n",
       "      <td>2018-06-13</td>\n",
       "      <td>USD</td>\n",
       "      <td>12</td>\n",
       "      <td>21</td>\n",
       "      <td>285</td>\n",
       "      <td>1</td>\n",
       "      <td>5</td>\n",
       "      <td>0.050</td>\n",
       "      <td>446.560</td>\n",
       "      <td>1038.500</td>\n",
       "    </tr>\n",
       "    <tr>\n",
       "      <th>6</th>\n",
       "      <td>SO - 000107</td>\n",
       "      <td>In-Store</td>\n",
       "      <td>WARE-XYS1001</td>\n",
       "      <td>2017-12-31</td>\n",
       "      <td>2018-05-31</td>\n",
       "      <td>2018-08-06</td>\n",
       "      <td>2018-06-14</td>\n",
       "      <td>USD</td>\n",
       "      <td>10</td>\n",
       "      <td>14</td>\n",
       "      <td>6</td>\n",
       "      <td>5</td>\n",
       "      <td>4</td>\n",
       "      <td>0.150</td>\n",
       "      <td>536.670</td>\n",
       "      <td>1192.600</td>\n",
       "    </tr>\n",
       "    <tr>\n",
       "      <th>7</th>\n",
       "      <td>SO - 000108</td>\n",
       "      <td>In-Store</td>\n",
       "      <td>WARE-PUJ1005</td>\n",
       "      <td>2018-10-04</td>\n",
       "      <td>2018-05-31</td>\n",
       "      <td>2018-06-26</td>\n",
       "      <td>2018-01-07</td>\n",
       "      <td>USD</td>\n",
       "      <td>6</td>\n",
       "      <td>9</td>\n",
       "      <td>280</td>\n",
       "      <td>46</td>\n",
       "      <td>5</td>\n",
       "      <td>0.050</td>\n",
       "      <td>1525.190</td>\n",
       "      <td>1815.700</td>\n",
       "    </tr>\n",
       "    <tr>\n",
       "      <th>8</th>\n",
       "      <td>SO - 000109</td>\n",
       "      <td>In-Store</td>\n",
       "      <td>WARE-PUJ1005</td>\n",
       "      <td>2017-12-31</td>\n",
       "      <td>2018-01-06</td>\n",
       "      <td>2018-06-16</td>\n",
       "      <td>2018-06-21</td>\n",
       "      <td>USD</td>\n",
       "      <td>4</td>\n",
       "      <td>9</td>\n",
       "      <td>299</td>\n",
       "      <td>47</td>\n",
       "      <td>4</td>\n",
       "      <td>0.300</td>\n",
       "      <td>2211.200</td>\n",
       "      <td>3879.300</td>\n",
       "    </tr>\n",
       "    <tr>\n",
       "      <th>9</th>\n",
       "      <td>SO - 000110</td>\n",
       "      <td>In-Store</td>\n",
       "      <td>WARE-UHY1004</td>\n",
       "      <td>2017-12-31</td>\n",
       "      <td>2018-01-06</td>\n",
       "      <td>2018-06-29</td>\n",
       "      <td>2018-01-07</td>\n",
       "      <td>USD</td>\n",
       "      <td>10</td>\n",
       "      <td>33</td>\n",
       "      <td>261</td>\n",
       "      <td>13</td>\n",
       "      <td>8</td>\n",
       "      <td>0.050</td>\n",
       "      <td>1212.970</td>\n",
       "      <td>1956.400</td>\n",
       "    </tr>\n",
       "  </tbody>\n",
       "</table>\n",
       "</div>"
      ],
      "text/plain": [
       "   OrderNumber Sales Channel WarehouseCode ProcuredDate  OrderDate   ShipDate  \\\n",
       "0  SO - 000101      In-Store  WARE-UHY1004   2017-12-31 2018-05-31 2018-06-14   \n",
       "1  SO - 000102        Online  WARE-NMK1003   2017-12-31 2018-05-31 2018-06-22   \n",
       "2  SO - 000103   Distributor  WARE-UHY1004   2017-12-31 2018-05-31 2018-06-21   \n",
       "3  SO - 000104     Wholesale  WARE-NMK1003   2017-12-31 2018-05-31 2018-02-06   \n",
       "4  SO - 000105   Distributor  WARE-NMK1003   2018-10-04 2018-05-31 2018-06-16   \n",
       "5  SO - 000106        Online  WARE-PUJ1005   2017-12-31 2018-05-31 2018-08-06   \n",
       "6  SO - 000107      In-Store  WARE-XYS1001   2017-12-31 2018-05-31 2018-08-06   \n",
       "7  SO - 000108      In-Store  WARE-PUJ1005   2018-10-04 2018-05-31 2018-06-26   \n",
       "8  SO - 000109      In-Store  WARE-PUJ1005   2017-12-31 2018-01-06 2018-06-16   \n",
       "9  SO - 000110      In-Store  WARE-UHY1004   2017-12-31 2018-01-06 2018-06-29   \n",
       "\n",
       "  DeliveryDate CurrencyCode  _SalesTeamID  _CustomerID  _StoreID  _ProductID  \\\n",
       "0   2018-06-19          USD             6           15       259          12   \n",
       "1   2018-02-07          USD            14           20       196          27   \n",
       "2   2018-01-07          USD            21           16       213          16   \n",
       "3   2018-07-06          USD            28           48       107          23   \n",
       "4   2018-06-26          USD            22           49       111          26   \n",
       "5   2018-06-13          USD            12           21       285           1   \n",
       "6   2018-06-14          USD            10           14         6           5   \n",
       "7   2018-01-07          USD             6            9       280          46   \n",
       "8   2018-06-21          USD             4            9       299          47   \n",
       "9   2018-01-07          USD            10           33       261          13   \n",
       "\n",
       "   Order Quantity  Discount Applied  Unit Cost  Unit Price  \n",
       "0               5             0.080   1001.180    1963.100  \n",
       "1               3             0.080   3348.660    3939.600  \n",
       "2               1             0.050    781.220    1775.500  \n",
       "3               8             0.080   1464.690    2324.900  \n",
       "4               8             0.100   1476.140    1822.400  \n",
       "5               5             0.050    446.560    1038.500  \n",
       "6               4             0.150    536.670    1192.600  \n",
       "7               5             0.050   1525.190    1815.700  \n",
       "8               4             0.300   2211.200    3879.300  \n",
       "9               8             0.050   1212.970    1956.400  "
      ]
     },
     "execution_count": 5,
     "metadata": {},
     "output_type": "execute_result"
    }
   ],
   "source": [
    "#Next im going to format the dates into datetime \n",
    "df['ProcuredDate'] = pd.to_datetime(df['ProcuredDate'], format='mixed')\n",
    "df['OrderDate'] = pd.to_datetime(df['OrderDate'], format='mixed')\n",
    "df['ShipDate'] = pd.to_datetime(df['ShipDate'], format='mixed')\n",
    "df['DeliveryDate'] = pd.to_datetime(df['DeliveryDate'], format='mixed')\n",
    "df.head(10)"
   ]
  },
  {
   "cell_type": "code",
   "execution_count": 6,
   "metadata": {},
   "outputs": [
    {
     "data": {
      "text/html": [
       "<div>\n",
       "<style scoped>\n",
       "    .dataframe tbody tr th:only-of-type {\n",
       "        vertical-align: middle;\n",
       "    }\n",
       "\n",
       "    .dataframe tbody tr th {\n",
       "        vertical-align: top;\n",
       "    }\n",
       "\n",
       "    .dataframe thead th {\n",
       "        text-align: right;\n",
       "    }\n",
       "</style>\n",
       "<table border=\"1\" class=\"dataframe\">\n",
       "  <thead>\n",
       "    <tr style=\"text-align: right;\">\n",
       "      <th></th>\n",
       "      <th>Unit Cost</th>\n",
       "      <th>Unit Price</th>\n",
       "      <th>Order Quantity</th>\n",
       "      <th>Discount Applied</th>\n",
       "      <th>Profit</th>\n",
       "    </tr>\n",
       "    <tr>\n",
       "      <th>_CustomerID</th>\n",
       "      <th></th>\n",
       "      <th></th>\n",
       "      <th></th>\n",
       "      <th></th>\n",
       "      <th></th>\n",
       "    </tr>\n",
       "  </thead>\n",
       "  <tbody>\n",
       "    <tr>\n",
       "      <th>34</th>\n",
       "      <td>268167.060</td>\n",
       "      <td>436431.300</td>\n",
       "      <td>796</td>\n",
       "      <td>17.680</td>\n",
       "      <td>72518136.183</td>\n",
       "    </tr>\n",
       "    <tr>\n",
       "      <th>21</th>\n",
       "      <td>242651.730</td>\n",
       "      <td>398181.000</td>\n",
       "      <td>778</td>\n",
       "      <td>19.620</td>\n",
       "      <td>60221990.768</td>\n",
       "    </tr>\n",
       "    <tr>\n",
       "      <th>4</th>\n",
       "      <td>231421.450</td>\n",
       "      <td>384807.800</td>\n",
       "      <td>781</td>\n",
       "      <td>20.010</td>\n",
       "      <td>59657707.501</td>\n",
       "    </tr>\n",
       "    <tr>\n",
       "      <th>9</th>\n",
       "      <td>232905.470</td>\n",
       "      <td>379474.600</td>\n",
       "      <td>818</td>\n",
       "      <td>19.550</td>\n",
       "      <td>59208349.783</td>\n",
       "    </tr>\n",
       "    <tr>\n",
       "      <th>12</th>\n",
       "      <td>308855.590</td>\n",
       "      <td>492007.800</td>\n",
       "      <td>970</td>\n",
       "      <td>24.900</td>\n",
       "      <td>58822999.766</td>\n",
       "    </tr>\n",
       "    <tr>\n",
       "      <th>29</th>\n",
       "      <td>276517.250</td>\n",
       "      <td>440009.100</td>\n",
       "      <td>828</td>\n",
       "      <td>21.180</td>\n",
       "      <td>58206679.929</td>\n",
       "    </tr>\n",
       "    <tr>\n",
       "      <th>50</th>\n",
       "      <td>238532.040</td>\n",
       "      <td>384533.100</td>\n",
       "      <td>720</td>\n",
       "      <td>17.050</td>\n",
       "      <td>57915479.844</td>\n",
       "    </tr>\n",
       "    <tr>\n",
       "      <th>11</th>\n",
       "      <td>259239.510</td>\n",
       "      <td>420404.900</td>\n",
       "      <td>805</td>\n",
       "      <td>21.500</td>\n",
       "      <td>56976560.882</td>\n",
       "    </tr>\n",
       "    <tr>\n",
       "      <th>39</th>\n",
       "      <td>247561.910</td>\n",
       "      <td>394020.300</td>\n",
       "      <td>812</td>\n",
       "      <td>19.410</td>\n",
       "      <td>56822988.413</td>\n",
       "    </tr>\n",
       "    <tr>\n",
       "      <th>17</th>\n",
       "      <td>268695.780</td>\n",
       "      <td>420981.100</td>\n",
       "      <td>783</td>\n",
       "      <td>19.450</td>\n",
       "      <td>55126720.407</td>\n",
       "    </tr>\n",
       "    <tr>\n",
       "      <th>42</th>\n",
       "      <td>217084.890</td>\n",
       "      <td>356192.100</td>\n",
       "      <td>761</td>\n",
       "      <td>18.850</td>\n",
       "      <td>54765364.353</td>\n",
       "    </tr>\n",
       "    <tr>\n",
       "      <th>25</th>\n",
       "      <td>231654.600</td>\n",
       "      <td>376660.600</td>\n",
       "      <td>735</td>\n",
       "      <td>19.210</td>\n",
       "      <td>53397381.574</td>\n",
       "    </tr>\n",
       "    <tr>\n",
       "      <th>20</th>\n",
       "      <td>212282.550</td>\n",
       "      <td>343797.100</td>\n",
       "      <td>754</td>\n",
       "      <td>17.730</td>\n",
       "      <td>53201730.424</td>\n",
       "    </tr>\n",
       "    <tr>\n",
       "      <th>33</th>\n",
       "      <td>232600.560</td>\n",
       "      <td>365217.000</td>\n",
       "      <td>767</td>\n",
       "      <td>17.540</td>\n",
       "      <td>52583509.079</td>\n",
       "    </tr>\n",
       "    <tr>\n",
       "      <th>5</th>\n",
       "      <td>224868.180</td>\n",
       "      <td>363461.600</td>\n",
       "      <td>717</td>\n",
       "      <td>18.000</td>\n",
       "      <td>52463128.044</td>\n",
       "    </tr>\n",
       "    <tr>\n",
       "      <th>19</th>\n",
       "      <td>236545.910</td>\n",
       "      <td>366282.300</td>\n",
       "      <td>787</td>\n",
       "      <td>17.310</td>\n",
       "      <td>52204011.086</td>\n",
       "    </tr>\n",
       "    <tr>\n",
       "      <th>30</th>\n",
       "      <td>217259.780</td>\n",
       "      <td>346008.100</td>\n",
       "      <td>732</td>\n",
       "      <td>16.730</td>\n",
       "      <td>51870372.685</td>\n",
       "    </tr>\n",
       "    <tr>\n",
       "      <th>18</th>\n",
       "      <td>279896.200</td>\n",
       "      <td>438736.100</td>\n",
       "      <td>785</td>\n",
       "      <td>21.240</td>\n",
       "      <td>51537096.603</td>\n",
       "    </tr>\n",
       "    <tr>\n",
       "      <th>15</th>\n",
       "      <td>209551.340</td>\n",
       "      <td>346912.600</td>\n",
       "      <td>627</td>\n",
       "      <td>15.930</td>\n",
       "      <td>51475497.928</td>\n",
       "    </tr>\n",
       "    <tr>\n",
       "      <th>41</th>\n",
       "      <td>231068.970</td>\n",
       "      <td>372499.900</td>\n",
       "      <td>689</td>\n",
       "      <td>18.060</td>\n",
       "      <td>51094481.713</td>\n",
       "    </tr>\n",
       "    <tr>\n",
       "      <th>23</th>\n",
       "      <td>238701.100</td>\n",
       "      <td>378543.300</td>\n",
       "      <td>763</td>\n",
       "      <td>19.300</td>\n",
       "      <td>50955690.785</td>\n",
       "    </tr>\n",
       "    <tr>\n",
       "      <th>40</th>\n",
       "      <td>221136.180</td>\n",
       "      <td>348373.200</td>\n",
       "      <td>720</td>\n",
       "      <td>16.290</td>\n",
       "      <td>50750658.518</td>\n",
       "    </tr>\n",
       "    <tr>\n",
       "      <th>32</th>\n",
       "      <td>248704.280</td>\n",
       "      <td>400780.600</td>\n",
       "      <td>819</td>\n",
       "      <td>22.900</td>\n",
       "      <td>49383703.769</td>\n",
       "    </tr>\n",
       "    <tr>\n",
       "      <th>6</th>\n",
       "      <td>205101.780</td>\n",
       "      <td>333974.900</td>\n",
       "      <td>639</td>\n",
       "      <td>15.630</td>\n",
       "      <td>48993946.760</td>\n",
       "    </tr>\n",
       "    <tr>\n",
       "      <th>36</th>\n",
       "      <td>236877.840</td>\n",
       "      <td>377866.600</td>\n",
       "      <td>658</td>\n",
       "      <td>17.610</td>\n",
       "      <td>48985765.245</td>\n",
       "    </tr>\n",
       "    <tr>\n",
       "      <th>13</th>\n",
       "      <td>259739.710</td>\n",
       "      <td>401845.900</td>\n",
       "      <td>765</td>\n",
       "      <td>19.430</td>\n",
       "      <td>48981061.697</td>\n",
       "    </tr>\n",
       "    <tr>\n",
       "      <th>16</th>\n",
       "      <td>203612.450</td>\n",
       "      <td>331114.000</td>\n",
       "      <td>630</td>\n",
       "      <td>15.160</td>\n",
       "      <td>48701940.588</td>\n",
       "    </tr>\n",
       "    <tr>\n",
       "      <th>31</th>\n",
       "      <td>207587.720</td>\n",
       "      <td>341110.400</td>\n",
       "      <td>665</td>\n",
       "      <td>17.830</td>\n",
       "      <td>48347292.627</td>\n",
       "    </tr>\n",
       "    <tr>\n",
       "      <th>22</th>\n",
       "      <td>214807.720</td>\n",
       "      <td>342276.200</td>\n",
       "      <td>614</td>\n",
       "      <td>14.240</td>\n",
       "      <td>48339206.360</td>\n",
       "    </tr>\n",
       "    <tr>\n",
       "      <th>47</th>\n",
       "      <td>216313.340</td>\n",
       "      <td>350343.000</td>\n",
       "      <td>739</td>\n",
       "      <td>19.590</td>\n",
       "      <td>48328727.596</td>\n",
       "    </tr>\n",
       "    <tr>\n",
       "      <th>37</th>\n",
       "      <td>217471.100</td>\n",
       "      <td>345190.700</td>\n",
       "      <td>699</td>\n",
       "      <td>17.170</td>\n",
       "      <td>47846799.410</td>\n",
       "    </tr>\n",
       "    <tr>\n",
       "      <th>3</th>\n",
       "      <td>243387.360</td>\n",
       "      <td>380560.000</td>\n",
       "      <td>880</td>\n",
       "      <td>21.820</td>\n",
       "      <td>47638314.240</td>\n",
       "    </tr>\n",
       "    <tr>\n",
       "      <th>48</th>\n",
       "      <td>232874.370</td>\n",
       "      <td>368868.500</td>\n",
       "      <td>783</td>\n",
       "      <td>20.780</td>\n",
       "      <td>46465769.213</td>\n",
       "    </tr>\n",
       "    <tr>\n",
       "      <th>45</th>\n",
       "      <td>236512.890</td>\n",
       "      <td>372526.700</td>\n",
       "      <td>669</td>\n",
       "      <td>17.880</td>\n",
       "      <td>46432638.111</td>\n",
       "    </tr>\n",
       "    <tr>\n",
       "      <th>43</th>\n",
       "      <td>227506.890</td>\n",
       "      <td>365645.800</td>\n",
       "      <td>666</td>\n",
       "      <td>18.970</td>\n",
       "      <td>45804750.559</td>\n",
       "    </tr>\n",
       "    <tr>\n",
       "      <th>26</th>\n",
       "      <td>215471.640</td>\n",
       "      <td>341639.700</td>\n",
       "      <td>714</td>\n",
       "      <td>18.260</td>\n",
       "      <td>45542240.657</td>\n",
       "    </tr>\n",
       "    <tr>\n",
       "      <th>14</th>\n",
       "      <td>218173.380</td>\n",
       "      <td>354979.400</td>\n",
       "      <td>681</td>\n",
       "      <td>19.740</td>\n",
       "      <td>45445231.866</td>\n",
       "    </tr>\n",
       "    <tr>\n",
       "      <th>7</th>\n",
       "      <td>211760.150</td>\n",
       "      <td>329030.300</td>\n",
       "      <td>723</td>\n",
       "      <td>17.380</td>\n",
       "      <td>43441226.431</td>\n",
       "    </tr>\n",
       "    <tr>\n",
       "      <th>44</th>\n",
       "      <td>218006.100</td>\n",
       "      <td>346946.100</td>\n",
       "      <td>714</td>\n",
       "      <td>19.720</td>\n",
       "      <td>43212871.563</td>\n",
       "    </tr>\n",
       "    <tr>\n",
       "      <th>46</th>\n",
       "      <td>222646.390</td>\n",
       "      <td>350899.100</td>\n",
       "      <td>659</td>\n",
       "      <td>18.070</td>\n",
       "      <td>42733014.893</td>\n",
       "    </tr>\n",
       "    <tr>\n",
       "      <th>10</th>\n",
       "      <td>241998.040</td>\n",
       "      <td>367059.500</td>\n",
       "      <td>706</td>\n",
       "      <td>17.790</td>\n",
       "      <td>42191671.915</td>\n",
       "    </tr>\n",
       "    <tr>\n",
       "      <th>28</th>\n",
       "      <td>217056.900</td>\n",
       "      <td>344936.100</td>\n",
       "      <td>624</td>\n",
       "      <td>17.630</td>\n",
       "      <td>41849786.516</td>\n",
       "    </tr>\n",
       "    <tr>\n",
       "      <th>49</th>\n",
       "      <td>223702.530</td>\n",
       "      <td>346771.900</td>\n",
       "      <td>653</td>\n",
       "      <td>17.040</td>\n",
       "      <td>41778573.171</td>\n",
       "    </tr>\n",
       "    <tr>\n",
       "      <th>8</th>\n",
       "      <td>199684.600</td>\n",
       "      <td>317278.500</td>\n",
       "      <td>650</td>\n",
       "      <td>17.000</td>\n",
       "      <td>41376760.750</td>\n",
       "    </tr>\n",
       "    <tr>\n",
       "      <th>27</th>\n",
       "      <td>183328.730</td>\n",
       "      <td>298873.600</td>\n",
       "      <td>652</td>\n",
       "      <td>17.770</td>\n",
       "      <td>40707640.395</td>\n",
       "    </tr>\n",
       "    <tr>\n",
       "      <th>1</th>\n",
       "      <td>202395.240</td>\n",
       "      <td>318424.200</td>\n",
       "      <td>635</td>\n",
       "      <td>16.550</td>\n",
       "      <td>40214394.362</td>\n",
       "    </tr>\n",
       "    <tr>\n",
       "      <th>35</th>\n",
       "      <td>202362.400</td>\n",
       "      <td>308528.300</td>\n",
       "      <td>697</td>\n",
       "      <td>16.450</td>\n",
       "      <td>38622857.271</td>\n",
       "    </tr>\n",
       "    <tr>\n",
       "      <th>2</th>\n",
       "      <td>182702.640</td>\n",
       "      <td>289708.000</td>\n",
       "      <td>611</td>\n",
       "      <td>15.260</td>\n",
       "      <td>38368306.631</td>\n",
       "    </tr>\n",
       "    <tr>\n",
       "      <th>38</th>\n",
       "      <td>210005.590</td>\n",
       "      <td>335234.500</td>\n",
       "      <td>640</td>\n",
       "      <td>19.730</td>\n",
       "      <td>37815771.616</td>\n",
       "    </tr>\n",
       "    <tr>\n",
       "      <th>24</th>\n",
       "      <td>215415.070</td>\n",
       "      <td>339783.800</td>\n",
       "      <td>649</td>\n",
       "      <td>20.210</td>\n",
       "      <td>36148277.189</td>\n",
       "    </tr>\n",
       "  </tbody>\n",
       "</table>\n",
       "</div>"
      ],
      "text/plain": [
       "             Unit Cost  Unit Price  Order Quantity  Discount Applied  \\\n",
       "_CustomerID                                                            \n",
       "34          268167.060  436431.300             796            17.680   \n",
       "21          242651.730  398181.000             778            19.620   \n",
       "4           231421.450  384807.800             781            20.010   \n",
       "9           232905.470  379474.600             818            19.550   \n",
       "12          308855.590  492007.800             970            24.900   \n",
       "29          276517.250  440009.100             828            21.180   \n",
       "50          238532.040  384533.100             720            17.050   \n",
       "11          259239.510  420404.900             805            21.500   \n",
       "39          247561.910  394020.300             812            19.410   \n",
       "17          268695.780  420981.100             783            19.450   \n",
       "42          217084.890  356192.100             761            18.850   \n",
       "25          231654.600  376660.600             735            19.210   \n",
       "20          212282.550  343797.100             754            17.730   \n",
       "33          232600.560  365217.000             767            17.540   \n",
       "5           224868.180  363461.600             717            18.000   \n",
       "19          236545.910  366282.300             787            17.310   \n",
       "30          217259.780  346008.100             732            16.730   \n",
       "18          279896.200  438736.100             785            21.240   \n",
       "15          209551.340  346912.600             627            15.930   \n",
       "41          231068.970  372499.900             689            18.060   \n",
       "23          238701.100  378543.300             763            19.300   \n",
       "40          221136.180  348373.200             720            16.290   \n",
       "32          248704.280  400780.600             819            22.900   \n",
       "6           205101.780  333974.900             639            15.630   \n",
       "36          236877.840  377866.600             658            17.610   \n",
       "13          259739.710  401845.900             765            19.430   \n",
       "16          203612.450  331114.000             630            15.160   \n",
       "31          207587.720  341110.400             665            17.830   \n",
       "22          214807.720  342276.200             614            14.240   \n",
       "47          216313.340  350343.000             739            19.590   \n",
       "37          217471.100  345190.700             699            17.170   \n",
       "3           243387.360  380560.000             880            21.820   \n",
       "48          232874.370  368868.500             783            20.780   \n",
       "45          236512.890  372526.700             669            17.880   \n",
       "43          227506.890  365645.800             666            18.970   \n",
       "26          215471.640  341639.700             714            18.260   \n",
       "14          218173.380  354979.400             681            19.740   \n",
       "7           211760.150  329030.300             723            17.380   \n",
       "44          218006.100  346946.100             714            19.720   \n",
       "46          222646.390  350899.100             659            18.070   \n",
       "10          241998.040  367059.500             706            17.790   \n",
       "28          217056.900  344936.100             624            17.630   \n",
       "49          223702.530  346771.900             653            17.040   \n",
       "8           199684.600  317278.500             650            17.000   \n",
       "27          183328.730  298873.600             652            17.770   \n",
       "1           202395.240  318424.200             635            16.550   \n",
       "35          202362.400  308528.300             697            16.450   \n",
       "2           182702.640  289708.000             611            15.260   \n",
       "38          210005.590  335234.500             640            19.730   \n",
       "24          215415.070  339783.800             649            20.210   \n",
       "\n",
       "                  Profit  \n",
       "_CustomerID               \n",
       "34          72518136.183  \n",
       "21          60221990.768  \n",
       "4           59657707.501  \n",
       "9           59208349.783  \n",
       "12          58822999.766  \n",
       "29          58206679.929  \n",
       "50          57915479.844  \n",
       "11          56976560.882  \n",
       "39          56822988.413  \n",
       "17          55126720.407  \n",
       "42          54765364.353  \n",
       "25          53397381.574  \n",
       "20          53201730.424  \n",
       "33          52583509.079  \n",
       "5           52463128.044  \n",
       "19          52204011.086  \n",
       "30          51870372.685  \n",
       "18          51537096.603  \n",
       "15          51475497.928  \n",
       "41          51094481.713  \n",
       "23          50955690.785  \n",
       "40          50750658.518  \n",
       "32          49383703.769  \n",
       "6           48993946.760  \n",
       "36          48985765.245  \n",
       "13          48981061.697  \n",
       "16          48701940.588  \n",
       "31          48347292.627  \n",
       "22          48339206.360  \n",
       "47          48328727.596  \n",
       "37          47846799.410  \n",
       "3           47638314.240  \n",
       "48          46465769.213  \n",
       "45          46432638.111  \n",
       "43          45804750.559  \n",
       "26          45542240.657  \n",
       "14          45445231.866  \n",
       "7           43441226.431  \n",
       "44          43212871.563  \n",
       "46          42733014.893  \n",
       "10          42191671.915  \n",
       "28          41849786.516  \n",
       "49          41778573.171  \n",
       "8           41376760.750  \n",
       "27          40707640.395  \n",
       "1           40214394.362  \n",
       "35          38622857.271  \n",
       "2           38368306.631  \n",
       "38          37815771.616  \n",
       "24          36148277.189  "
      ]
     },
     "execution_count": 6,
     "metadata": {},
     "output_type": "execute_result"
    }
   ],
   "source": [
    "#Finding the total profit a customer made for the company with the total discount they had\n",
    "GroupedDF = df.groupby(['_CustomerID']).agg({'Unit Cost': 'sum', 'Unit Price': 'sum', 'Order Quantity': 'sum', 'Discount Applied': 'sum'}).sort_values(by='Unit Price', ascending=False) \n",
    "#This is the function to find proft at the discounted rate. \n",
    "GroupedDF['Profit'] = ((GroupedDF['Unit Price'] * GroupedDF['Order Quantity']) - ((GroupedDF['Unit Price'] * GroupedDF['Order Quantity']) * GroupedDF['Discount Applied'] / 100)) - (GroupedDF['Unit Cost'] * GroupedDF['Order Quantity']) \n",
    "CompanyProfitPerPerson = GroupedDF\n",
    "CompanyProfitPerPerson = CompanyProfitPerPerson.sort_values(by='Profit', ascending=False)\n",
    "CompanyProfitPerPerson\n"
   ]
  },
  {
   "cell_type": "code",
   "execution_count": 7,
   "metadata": {},
   "outputs": [
    {
     "data": {
      "application/vnd.plotly.v1+json": {
       "config": {
        "plotlyServerURL": "https://plot.ly"
       },
       "data": [
        {
         "alignmentgroup": "True",
         "hovertemplate": "_CustomerID=%{marker.color}<br>Profit=%{y}<extra></extra>",
         "legendgroup": "",
         "marker": {
          "color": [
           34,
           21,
           4,
           9,
           12,
           29,
           50,
           11,
           39,
           17,
           42,
           25,
           20,
           33,
           5,
           19,
           30,
           18,
           15,
           41,
           23,
           40,
           32,
           6,
           36,
           13,
           16,
           31,
           22,
           47,
           37,
           3,
           48,
           45,
           43,
           26,
           14,
           7,
           44,
           46,
           10,
           28,
           49,
           8,
           27,
           1,
           35,
           2,
           38,
           24
          ],
          "coloraxis": "coloraxis",
          "pattern": {
           "shape": ""
          }
         },
         "name": "",
         "offsetgroup": "",
         "orientation": "v",
         "showlegend": false,
         "textangle": 30,
         "textposition": "outside",
         "texttemplate": "%{y:.3s}",
         "type": "bar",
         "x": [
          34,
          21,
          4,
          9,
          12,
          29,
          50,
          11,
          39,
          17,
          42,
          25,
          20,
          33,
          5,
          19,
          30,
          18,
          15,
          41,
          23,
          40,
          32,
          6,
          36,
          13,
          16,
          31,
          22,
          47,
          37,
          3,
          48,
          45,
          43,
          26,
          14,
          7,
          44,
          46,
          10,
          28,
          49,
          8,
          27,
          1,
          35,
          2,
          38,
          24
         ],
         "xaxis": "x",
         "y": [
          72518136.18336004,
          60221990.76840001,
          59657707.50081998,
          59208349.782599956,
          58822999.76599997,
          58206679.92935997,
          57915479.84399998,
          56976560.88249999,
          56822988.413239956,
          55126720.40714997,
          54765364.35314995,
          53397381.573899984,
          53201730.42418,
          52583509.0794,
          52463128.044,
          52204011.08568996,
          51870372.68483999,
          51537096.60259998,
          51475497.92814,
          51094481.713340014,
          50955690.78529996,
          50750658.51840001,
          49383703.7694,
          48993946.76007001,
          48985765.244919986,
          48981061.69694999,
          48701940.588,
          48347292.62720001,
          48339206.35968001,
          48328727.595699996,
          47846799.410190016,
          47638314.24000004,
          46465769.21309999,
          46432638.11076,
          45804750.55883998,
          45542240.656919986,
          45445231.865640014,
          43441226.43078002,
          43212871.56311998,
          42733014.89317,
          42191671.9147,
          41849786.515679985,
          41778573.17072001,
          41376760.75,
          40707640.39455998,
          40214394.36150001,
          38622857.271050006,
          38368306.6312,
          37815771.616,
          36148277.18897998
         ],
         "yaxis": "y"
        }
       ],
       "layout": {
        "barmode": "relative",
        "coloraxis": {
         "colorbar": {
          "title": {
           "text": "_CustomerID"
          }
         },
         "colorscale": [
          [
           0,
           "#0d0887"
          ],
          [
           0.1111111111111111,
           "#46039f"
          ],
          [
           0.2222222222222222,
           "#7201a8"
          ],
          [
           0.3333333333333333,
           "#9c179e"
          ],
          [
           0.4444444444444444,
           "#bd3786"
          ],
          [
           0.5555555555555556,
           "#d8576b"
          ],
          [
           0.6666666666666666,
           "#ed7953"
          ],
          [
           0.7777777777777778,
           "#fb9f3a"
          ],
          [
           0.8888888888888888,
           "#fdca26"
          ],
          [
           1,
           "#f0f921"
          ]
         ]
        },
        "legend": {
         "tracegroupgap": 0
        },
        "template": {
         "data": {
          "bar": [
           {
            "error_x": {
             "color": "#2a3f5f"
            },
            "error_y": {
             "color": "#2a3f5f"
            },
            "marker": {
             "line": {
              "color": "#E5ECF6",
              "width": 0.5
             },
             "pattern": {
              "fillmode": "overlay",
              "size": 10,
              "solidity": 0.2
             }
            },
            "type": "bar"
           }
          ],
          "barpolar": [
           {
            "marker": {
             "line": {
              "color": "#E5ECF6",
              "width": 0.5
             },
             "pattern": {
              "fillmode": "overlay",
              "size": 10,
              "solidity": 0.2
             }
            },
            "type": "barpolar"
           }
          ],
          "carpet": [
           {
            "aaxis": {
             "endlinecolor": "#2a3f5f",
             "gridcolor": "white",
             "linecolor": "white",
             "minorgridcolor": "white",
             "startlinecolor": "#2a3f5f"
            },
            "baxis": {
             "endlinecolor": "#2a3f5f",
             "gridcolor": "white",
             "linecolor": "white",
             "minorgridcolor": "white",
             "startlinecolor": "#2a3f5f"
            },
            "type": "carpet"
           }
          ],
          "choropleth": [
           {
            "colorbar": {
             "outlinewidth": 0,
             "ticks": ""
            },
            "type": "choropleth"
           }
          ],
          "contour": [
           {
            "colorbar": {
             "outlinewidth": 0,
             "ticks": ""
            },
            "colorscale": [
             [
              0,
              "#0d0887"
             ],
             [
              0.1111111111111111,
              "#46039f"
             ],
             [
              0.2222222222222222,
              "#7201a8"
             ],
             [
              0.3333333333333333,
              "#9c179e"
             ],
             [
              0.4444444444444444,
              "#bd3786"
             ],
             [
              0.5555555555555556,
              "#d8576b"
             ],
             [
              0.6666666666666666,
              "#ed7953"
             ],
             [
              0.7777777777777778,
              "#fb9f3a"
             ],
             [
              0.8888888888888888,
              "#fdca26"
             ],
             [
              1,
              "#f0f921"
             ]
            ],
            "type": "contour"
           }
          ],
          "contourcarpet": [
           {
            "colorbar": {
             "outlinewidth": 0,
             "ticks": ""
            },
            "type": "contourcarpet"
           }
          ],
          "heatmap": [
           {
            "colorbar": {
             "outlinewidth": 0,
             "ticks": ""
            },
            "colorscale": [
             [
              0,
              "#0d0887"
             ],
             [
              0.1111111111111111,
              "#46039f"
             ],
             [
              0.2222222222222222,
              "#7201a8"
             ],
             [
              0.3333333333333333,
              "#9c179e"
             ],
             [
              0.4444444444444444,
              "#bd3786"
             ],
             [
              0.5555555555555556,
              "#d8576b"
             ],
             [
              0.6666666666666666,
              "#ed7953"
             ],
             [
              0.7777777777777778,
              "#fb9f3a"
             ],
             [
              0.8888888888888888,
              "#fdca26"
             ],
             [
              1,
              "#f0f921"
             ]
            ],
            "type": "heatmap"
           }
          ],
          "heatmapgl": [
           {
            "colorbar": {
             "outlinewidth": 0,
             "ticks": ""
            },
            "colorscale": [
             [
              0,
              "#0d0887"
             ],
             [
              0.1111111111111111,
              "#46039f"
             ],
             [
              0.2222222222222222,
              "#7201a8"
             ],
             [
              0.3333333333333333,
              "#9c179e"
             ],
             [
              0.4444444444444444,
              "#bd3786"
             ],
             [
              0.5555555555555556,
              "#d8576b"
             ],
             [
              0.6666666666666666,
              "#ed7953"
             ],
             [
              0.7777777777777778,
              "#fb9f3a"
             ],
             [
              0.8888888888888888,
              "#fdca26"
             ],
             [
              1,
              "#f0f921"
             ]
            ],
            "type": "heatmapgl"
           }
          ],
          "histogram": [
           {
            "marker": {
             "pattern": {
              "fillmode": "overlay",
              "size": 10,
              "solidity": 0.2
             }
            },
            "type": "histogram"
           }
          ],
          "histogram2d": [
           {
            "colorbar": {
             "outlinewidth": 0,
             "ticks": ""
            },
            "colorscale": [
             [
              0,
              "#0d0887"
             ],
             [
              0.1111111111111111,
              "#46039f"
             ],
             [
              0.2222222222222222,
              "#7201a8"
             ],
             [
              0.3333333333333333,
              "#9c179e"
             ],
             [
              0.4444444444444444,
              "#bd3786"
             ],
             [
              0.5555555555555556,
              "#d8576b"
             ],
             [
              0.6666666666666666,
              "#ed7953"
             ],
             [
              0.7777777777777778,
              "#fb9f3a"
             ],
             [
              0.8888888888888888,
              "#fdca26"
             ],
             [
              1,
              "#f0f921"
             ]
            ],
            "type": "histogram2d"
           }
          ],
          "histogram2dcontour": [
           {
            "colorbar": {
             "outlinewidth": 0,
             "ticks": ""
            },
            "colorscale": [
             [
              0,
              "#0d0887"
             ],
             [
              0.1111111111111111,
              "#46039f"
             ],
             [
              0.2222222222222222,
              "#7201a8"
             ],
             [
              0.3333333333333333,
              "#9c179e"
             ],
             [
              0.4444444444444444,
              "#bd3786"
             ],
             [
              0.5555555555555556,
              "#d8576b"
             ],
             [
              0.6666666666666666,
              "#ed7953"
             ],
             [
              0.7777777777777778,
              "#fb9f3a"
             ],
             [
              0.8888888888888888,
              "#fdca26"
             ],
             [
              1,
              "#f0f921"
             ]
            ],
            "type": "histogram2dcontour"
           }
          ],
          "mesh3d": [
           {
            "colorbar": {
             "outlinewidth": 0,
             "ticks": ""
            },
            "type": "mesh3d"
           }
          ],
          "parcoords": [
           {
            "line": {
             "colorbar": {
              "outlinewidth": 0,
              "ticks": ""
             }
            },
            "type": "parcoords"
           }
          ],
          "pie": [
           {
            "automargin": true,
            "type": "pie"
           }
          ],
          "scatter": [
           {
            "fillpattern": {
             "fillmode": "overlay",
             "size": 10,
             "solidity": 0.2
            },
            "type": "scatter"
           }
          ],
          "scatter3d": [
           {
            "line": {
             "colorbar": {
              "outlinewidth": 0,
              "ticks": ""
             }
            },
            "marker": {
             "colorbar": {
              "outlinewidth": 0,
              "ticks": ""
             }
            },
            "type": "scatter3d"
           }
          ],
          "scattercarpet": [
           {
            "marker": {
             "colorbar": {
              "outlinewidth": 0,
              "ticks": ""
             }
            },
            "type": "scattercarpet"
           }
          ],
          "scattergeo": [
           {
            "marker": {
             "colorbar": {
              "outlinewidth": 0,
              "ticks": ""
             }
            },
            "type": "scattergeo"
           }
          ],
          "scattergl": [
           {
            "marker": {
             "colorbar": {
              "outlinewidth": 0,
              "ticks": ""
             }
            },
            "type": "scattergl"
           }
          ],
          "scattermapbox": [
           {
            "marker": {
             "colorbar": {
              "outlinewidth": 0,
              "ticks": ""
             }
            },
            "type": "scattermapbox"
           }
          ],
          "scatterpolar": [
           {
            "marker": {
             "colorbar": {
              "outlinewidth": 0,
              "ticks": ""
             }
            },
            "type": "scatterpolar"
           }
          ],
          "scatterpolargl": [
           {
            "marker": {
             "colorbar": {
              "outlinewidth": 0,
              "ticks": ""
             }
            },
            "type": "scatterpolargl"
           }
          ],
          "scatterternary": [
           {
            "marker": {
             "colorbar": {
              "outlinewidth": 0,
              "ticks": ""
             }
            },
            "type": "scatterternary"
           }
          ],
          "surface": [
           {
            "colorbar": {
             "outlinewidth": 0,
             "ticks": ""
            },
            "colorscale": [
             [
              0,
              "#0d0887"
             ],
             [
              0.1111111111111111,
              "#46039f"
             ],
             [
              0.2222222222222222,
              "#7201a8"
             ],
             [
              0.3333333333333333,
              "#9c179e"
             ],
             [
              0.4444444444444444,
              "#bd3786"
             ],
             [
              0.5555555555555556,
              "#d8576b"
             ],
             [
              0.6666666666666666,
              "#ed7953"
             ],
             [
              0.7777777777777778,
              "#fb9f3a"
             ],
             [
              0.8888888888888888,
              "#fdca26"
             ],
             [
              1,
              "#f0f921"
             ]
            ],
            "type": "surface"
           }
          ],
          "table": [
           {
            "cells": {
             "fill": {
              "color": "#EBF0F8"
             },
             "line": {
              "color": "white"
             }
            },
            "header": {
             "fill": {
              "color": "#C8D4E3"
             },
             "line": {
              "color": "white"
             }
            },
            "type": "table"
           }
          ]
         },
         "layout": {
          "annotationdefaults": {
           "arrowcolor": "#2a3f5f",
           "arrowhead": 0,
           "arrowwidth": 1
          },
          "autotypenumbers": "strict",
          "coloraxis": {
           "colorbar": {
            "outlinewidth": 0,
            "ticks": ""
           }
          },
          "colorscale": {
           "diverging": [
            [
             0,
             "#8e0152"
            ],
            [
             0.1,
             "#c51b7d"
            ],
            [
             0.2,
             "#de77ae"
            ],
            [
             0.3,
             "#f1b6da"
            ],
            [
             0.4,
             "#fde0ef"
            ],
            [
             0.5,
             "#f7f7f7"
            ],
            [
             0.6,
             "#e6f5d0"
            ],
            [
             0.7,
             "#b8e186"
            ],
            [
             0.8,
             "#7fbc41"
            ],
            [
             0.9,
             "#4d9221"
            ],
            [
             1,
             "#276419"
            ]
           ],
           "sequential": [
            [
             0,
             "#0d0887"
            ],
            [
             0.1111111111111111,
             "#46039f"
            ],
            [
             0.2222222222222222,
             "#7201a8"
            ],
            [
             0.3333333333333333,
             "#9c179e"
            ],
            [
             0.4444444444444444,
             "#bd3786"
            ],
            [
             0.5555555555555556,
             "#d8576b"
            ],
            [
             0.6666666666666666,
             "#ed7953"
            ],
            [
             0.7777777777777778,
             "#fb9f3a"
            ],
            [
             0.8888888888888888,
             "#fdca26"
            ],
            [
             1,
             "#f0f921"
            ]
           ],
           "sequentialminus": [
            [
             0,
             "#0d0887"
            ],
            [
             0.1111111111111111,
             "#46039f"
            ],
            [
             0.2222222222222222,
             "#7201a8"
            ],
            [
             0.3333333333333333,
             "#9c179e"
            ],
            [
             0.4444444444444444,
             "#bd3786"
            ],
            [
             0.5555555555555556,
             "#d8576b"
            ],
            [
             0.6666666666666666,
             "#ed7953"
            ],
            [
             0.7777777777777778,
             "#fb9f3a"
            ],
            [
             0.8888888888888888,
             "#fdca26"
            ],
            [
             1,
             "#f0f921"
            ]
           ]
          },
          "colorway": [
           "#636efa",
           "#EF553B",
           "#00cc96",
           "#ab63fa",
           "#FFA15A",
           "#19d3f3",
           "#FF6692",
           "#B6E880",
           "#FF97FF",
           "#FECB52"
          ],
          "font": {
           "color": "#2a3f5f"
          },
          "geo": {
           "bgcolor": "white",
           "lakecolor": "white",
           "landcolor": "#E5ECF6",
           "showlakes": true,
           "showland": true,
           "subunitcolor": "white"
          },
          "hoverlabel": {
           "align": "left"
          },
          "hovermode": "closest",
          "mapbox": {
           "style": "light"
          },
          "paper_bgcolor": "white",
          "plot_bgcolor": "#E5ECF6",
          "polar": {
           "angularaxis": {
            "gridcolor": "white",
            "linecolor": "white",
            "ticks": ""
           },
           "bgcolor": "#E5ECF6",
           "radialaxis": {
            "gridcolor": "white",
            "linecolor": "white",
            "ticks": ""
           }
          },
          "scene": {
           "xaxis": {
            "backgroundcolor": "#E5ECF6",
            "gridcolor": "white",
            "gridwidth": 2,
            "linecolor": "white",
            "showbackground": true,
            "ticks": "",
            "zerolinecolor": "white"
           },
           "yaxis": {
            "backgroundcolor": "#E5ECF6",
            "gridcolor": "white",
            "gridwidth": 2,
            "linecolor": "white",
            "showbackground": true,
            "ticks": "",
            "zerolinecolor": "white"
           },
           "zaxis": {
            "backgroundcolor": "#E5ECF6",
            "gridcolor": "white",
            "gridwidth": 2,
            "linecolor": "white",
            "showbackground": true,
            "ticks": "",
            "zerolinecolor": "white"
           }
          },
          "shapedefaults": {
           "line": {
            "color": "#2a3f5f"
           }
          },
          "ternary": {
           "aaxis": {
            "gridcolor": "white",
            "linecolor": "white",
            "ticks": ""
           },
           "baxis": {
            "gridcolor": "white",
            "linecolor": "white",
            "ticks": ""
           },
           "bgcolor": "#E5ECF6",
           "caxis": {
            "gridcolor": "white",
            "linecolor": "white",
            "ticks": ""
           }
          },
          "title": {
           "x": 0.05
          },
          "xaxis": {
           "automargin": true,
           "gridcolor": "white",
           "linecolor": "white",
           "ticks": "",
           "title": {
            "standoff": 15
           },
           "zerolinecolor": "white",
           "zerolinewidth": 2
          },
          "yaxis": {
           "automargin": true,
           "gridcolor": "white",
           "linecolor": "white",
           "ticks": "",
           "title": {
            "standoff": 15
           },
           "zerolinecolor": "white",
           "zerolinewidth": 2
          }
         }
        },
        "title": {
         "text": "Total Profit per customer"
        },
        "xaxis": {
         "anchor": "y",
         "domain": [
          0,
          1
         ],
         "title": {
          "text": "_CustomerID"
         }
        },
        "yaxis": {
         "anchor": "x",
         "domain": [
          0,
          1
         ],
         "title": {
          "text": "Profit"
         }
        }
       }
      }
     },
     "metadata": {},
     "output_type": "display_data"
    }
   ],
   "source": [
    "#Graphing the data \n",
    "graph1 = CompanyProfitPerPerson.reset_index(drop=False) #Reset index to allow for graphing of customerid\n",
    "bar = px.bar(\n",
    "    data_frame=graph1,\n",
    "    x='_CustomerID',\n",
    "    y='Profit',\n",
    "    color='_CustomerID',\n",
    "    title= 'Total Profit per customer',\n",
    "    text_auto='.3s'\n",
    ")\n",
    "bar.update_traces(textposition=\"outside\", textangle= 30)\n",
    "\n",
    "bar"
   ]
  },
  {
   "cell_type": "code",
   "execution_count": 8,
   "metadata": {},
   "outputs": [
    {
     "data": {
      "text/html": [
       "<div>\n",
       "<style scoped>\n",
       "    .dataframe tbody tr th:only-of-type {\n",
       "        vertical-align: middle;\n",
       "    }\n",
       "\n",
       "    .dataframe tbody tr th {\n",
       "        vertical-align: top;\n",
       "    }\n",
       "\n",
       "    .dataframe thead th {\n",
       "        text-align: right;\n",
       "    }\n",
       "</style>\n",
       "<table border=\"1\" class=\"dataframe\">\n",
       "  <thead>\n",
       "    <tr style=\"text-align: right;\">\n",
       "      <th></th>\n",
       "      <th>Order Quantity</th>\n",
       "      <th>Unit Cost</th>\n",
       "      <th>Unit Price</th>\n",
       "      <th>Profit</th>\n",
       "    </tr>\n",
       "    <tr>\n",
       "      <th>Sales Channel</th>\n",
       "      <th></th>\n",
       "      <th></th>\n",
       "      <th></th>\n",
       "      <th></th>\n",
       "    </tr>\n",
       "  </thead>\n",
       "  <tbody>\n",
       "    <tr>\n",
       "      <th>In-Store</th>\n",
       "      <td>14878</td>\n",
       "      <td>4698863.480</td>\n",
       "      <td>7487169.600</td>\n",
       "      <td>41484418453.360</td>\n",
       "    </tr>\n",
       "    <tr>\n",
       "      <th>Online</th>\n",
       "      <td>10897</td>\n",
       "      <td>3479395.470</td>\n",
       "      <td>5544846.300</td>\n",
       "      <td>22507217694.510</td>\n",
       "    </tr>\n",
       "    <tr>\n",
       "      <th>Distributor</th>\n",
       "      <td>6287</td>\n",
       "      <td>2002160.950</td>\n",
       "      <td>3201762.500</td>\n",
       "      <td>7541894944.850</td>\n",
       "    </tr>\n",
       "    <tr>\n",
       "      <th>Wholesale</th>\n",
       "      <td>4100</td>\n",
       "      <td>1261985.000</td>\n",
       "      <td>2021952.800</td>\n",
       "      <td>3115867980.000</td>\n",
       "    </tr>\n",
       "  </tbody>\n",
       "</table>\n",
       "</div>"
      ],
      "text/plain": [
       "               Order Quantity   Unit Cost  Unit Price          Profit\n",
       "Sales Channel                                                        \n",
       "In-Store                14878 4698863.480 7487169.600 41484418453.360\n",
       "Online                  10897 3479395.470 5544846.300 22507217694.510\n",
       "Distributor              6287 2002160.950 3201762.500  7541894944.850\n",
       "Wholesale                4100 1261985.000 2021952.800  3115867980.000"
      ]
     },
     "execution_count": 8,
     "metadata": {},
     "output_type": "execute_result"
    }
   ],
   "source": [
    "#Find which sales method sold more items and made the most profit !without discounts!\n",
    "groupedSales = df.groupby(['Sales Channel']).agg({'Order Quantity': 'sum', 'Unit Cost': 'sum', 'Unit Price': 'sum'})\n",
    "groupedSales['Profit'] = (groupedSales['Unit Price'] * groupedSales['Order Quantity']) - (groupedSales['Unit Cost'] * groupedSales['Order Quantity'])\n",
    "groupedSales = groupedSales.sort_values(by='Profit', ascending=False)\n",
    "groupedSales"
   ]
  },
  {
   "cell_type": "code",
   "execution_count": 9,
   "metadata": {},
   "outputs": [
    {
     "data": {
      "application/vnd.plotly.v1+json": {
       "config": {
        "plotlyServerURL": "https://plot.ly"
       },
       "data": [
        {
         "alignmentgroup": "True",
         "hovertemplate": "Shopping Methods=%{x}<br>Order Quantity=%{marker.color}<extra></extra>",
         "legendgroup": "",
         "marker": {
          "color": [
           14878,
           10897,
           6287,
           4100
          ],
          "coloraxis": "coloraxis",
          "pattern": {
           "shape": ""
          }
         },
         "name": "",
         "offsetgroup": "",
         "orientation": "v",
         "showlegend": false,
         "textposition": "auto",
         "texttemplate": "%{y:.3s}",
         "type": "bar",
         "x": [
          "In-Store",
          "Online",
          "Distributor",
          "Wholesale"
         ],
         "xaxis": "x",
         "y": [
          14878,
          10897,
          6287,
          4100
         ],
         "yaxis": "y"
        }
       ],
       "layout": {
        "barmode": "relative",
        "coloraxis": {
         "colorbar": {
          "title": {
           "text": "Order Quantity"
          }
         },
         "colorscale": [
          [
           0,
           "#0d0887"
          ],
          [
           0.1111111111111111,
           "#46039f"
          ],
          [
           0.2222222222222222,
           "#7201a8"
          ],
          [
           0.3333333333333333,
           "#9c179e"
          ],
          [
           0.4444444444444444,
           "#bd3786"
          ],
          [
           0.5555555555555556,
           "#d8576b"
          ],
          [
           0.6666666666666666,
           "#ed7953"
          ],
          [
           0.7777777777777778,
           "#fb9f3a"
          ],
          [
           0.8888888888888888,
           "#fdca26"
          ],
          [
           1,
           "#f0f921"
          ]
         ]
        },
        "legend": {
         "tracegroupgap": 0
        },
        "template": {
         "data": {
          "bar": [
           {
            "error_x": {
             "color": "#2a3f5f"
            },
            "error_y": {
             "color": "#2a3f5f"
            },
            "marker": {
             "line": {
              "color": "#E5ECF6",
              "width": 0.5
             },
             "pattern": {
              "fillmode": "overlay",
              "size": 10,
              "solidity": 0.2
             }
            },
            "type": "bar"
           }
          ],
          "barpolar": [
           {
            "marker": {
             "line": {
              "color": "#E5ECF6",
              "width": 0.5
             },
             "pattern": {
              "fillmode": "overlay",
              "size": 10,
              "solidity": 0.2
             }
            },
            "type": "barpolar"
           }
          ],
          "carpet": [
           {
            "aaxis": {
             "endlinecolor": "#2a3f5f",
             "gridcolor": "white",
             "linecolor": "white",
             "minorgridcolor": "white",
             "startlinecolor": "#2a3f5f"
            },
            "baxis": {
             "endlinecolor": "#2a3f5f",
             "gridcolor": "white",
             "linecolor": "white",
             "minorgridcolor": "white",
             "startlinecolor": "#2a3f5f"
            },
            "type": "carpet"
           }
          ],
          "choropleth": [
           {
            "colorbar": {
             "outlinewidth": 0,
             "ticks": ""
            },
            "type": "choropleth"
           }
          ],
          "contour": [
           {
            "colorbar": {
             "outlinewidth": 0,
             "ticks": ""
            },
            "colorscale": [
             [
              0,
              "#0d0887"
             ],
             [
              0.1111111111111111,
              "#46039f"
             ],
             [
              0.2222222222222222,
              "#7201a8"
             ],
             [
              0.3333333333333333,
              "#9c179e"
             ],
             [
              0.4444444444444444,
              "#bd3786"
             ],
             [
              0.5555555555555556,
              "#d8576b"
             ],
             [
              0.6666666666666666,
              "#ed7953"
             ],
             [
              0.7777777777777778,
              "#fb9f3a"
             ],
             [
              0.8888888888888888,
              "#fdca26"
             ],
             [
              1,
              "#f0f921"
             ]
            ],
            "type": "contour"
           }
          ],
          "contourcarpet": [
           {
            "colorbar": {
             "outlinewidth": 0,
             "ticks": ""
            },
            "type": "contourcarpet"
           }
          ],
          "heatmap": [
           {
            "colorbar": {
             "outlinewidth": 0,
             "ticks": ""
            },
            "colorscale": [
             [
              0,
              "#0d0887"
             ],
             [
              0.1111111111111111,
              "#46039f"
             ],
             [
              0.2222222222222222,
              "#7201a8"
             ],
             [
              0.3333333333333333,
              "#9c179e"
             ],
             [
              0.4444444444444444,
              "#bd3786"
             ],
             [
              0.5555555555555556,
              "#d8576b"
             ],
             [
              0.6666666666666666,
              "#ed7953"
             ],
             [
              0.7777777777777778,
              "#fb9f3a"
             ],
             [
              0.8888888888888888,
              "#fdca26"
             ],
             [
              1,
              "#f0f921"
             ]
            ],
            "type": "heatmap"
           }
          ],
          "heatmapgl": [
           {
            "colorbar": {
             "outlinewidth": 0,
             "ticks": ""
            },
            "colorscale": [
             [
              0,
              "#0d0887"
             ],
             [
              0.1111111111111111,
              "#46039f"
             ],
             [
              0.2222222222222222,
              "#7201a8"
             ],
             [
              0.3333333333333333,
              "#9c179e"
             ],
             [
              0.4444444444444444,
              "#bd3786"
             ],
             [
              0.5555555555555556,
              "#d8576b"
             ],
             [
              0.6666666666666666,
              "#ed7953"
             ],
             [
              0.7777777777777778,
              "#fb9f3a"
             ],
             [
              0.8888888888888888,
              "#fdca26"
             ],
             [
              1,
              "#f0f921"
             ]
            ],
            "type": "heatmapgl"
           }
          ],
          "histogram": [
           {
            "marker": {
             "pattern": {
              "fillmode": "overlay",
              "size": 10,
              "solidity": 0.2
             }
            },
            "type": "histogram"
           }
          ],
          "histogram2d": [
           {
            "colorbar": {
             "outlinewidth": 0,
             "ticks": ""
            },
            "colorscale": [
             [
              0,
              "#0d0887"
             ],
             [
              0.1111111111111111,
              "#46039f"
             ],
             [
              0.2222222222222222,
              "#7201a8"
             ],
             [
              0.3333333333333333,
              "#9c179e"
             ],
             [
              0.4444444444444444,
              "#bd3786"
             ],
             [
              0.5555555555555556,
              "#d8576b"
             ],
             [
              0.6666666666666666,
              "#ed7953"
             ],
             [
              0.7777777777777778,
              "#fb9f3a"
             ],
             [
              0.8888888888888888,
              "#fdca26"
             ],
             [
              1,
              "#f0f921"
             ]
            ],
            "type": "histogram2d"
           }
          ],
          "histogram2dcontour": [
           {
            "colorbar": {
             "outlinewidth": 0,
             "ticks": ""
            },
            "colorscale": [
             [
              0,
              "#0d0887"
             ],
             [
              0.1111111111111111,
              "#46039f"
             ],
             [
              0.2222222222222222,
              "#7201a8"
             ],
             [
              0.3333333333333333,
              "#9c179e"
             ],
             [
              0.4444444444444444,
              "#bd3786"
             ],
             [
              0.5555555555555556,
              "#d8576b"
             ],
             [
              0.6666666666666666,
              "#ed7953"
             ],
             [
              0.7777777777777778,
              "#fb9f3a"
             ],
             [
              0.8888888888888888,
              "#fdca26"
             ],
             [
              1,
              "#f0f921"
             ]
            ],
            "type": "histogram2dcontour"
           }
          ],
          "mesh3d": [
           {
            "colorbar": {
             "outlinewidth": 0,
             "ticks": ""
            },
            "type": "mesh3d"
           }
          ],
          "parcoords": [
           {
            "line": {
             "colorbar": {
              "outlinewidth": 0,
              "ticks": ""
             }
            },
            "type": "parcoords"
           }
          ],
          "pie": [
           {
            "automargin": true,
            "type": "pie"
           }
          ],
          "scatter": [
           {
            "fillpattern": {
             "fillmode": "overlay",
             "size": 10,
             "solidity": 0.2
            },
            "type": "scatter"
           }
          ],
          "scatter3d": [
           {
            "line": {
             "colorbar": {
              "outlinewidth": 0,
              "ticks": ""
             }
            },
            "marker": {
             "colorbar": {
              "outlinewidth": 0,
              "ticks": ""
             }
            },
            "type": "scatter3d"
           }
          ],
          "scattercarpet": [
           {
            "marker": {
             "colorbar": {
              "outlinewidth": 0,
              "ticks": ""
             }
            },
            "type": "scattercarpet"
           }
          ],
          "scattergeo": [
           {
            "marker": {
             "colorbar": {
              "outlinewidth": 0,
              "ticks": ""
             }
            },
            "type": "scattergeo"
           }
          ],
          "scattergl": [
           {
            "marker": {
             "colorbar": {
              "outlinewidth": 0,
              "ticks": ""
             }
            },
            "type": "scattergl"
           }
          ],
          "scattermapbox": [
           {
            "marker": {
             "colorbar": {
              "outlinewidth": 0,
              "ticks": ""
             }
            },
            "type": "scattermapbox"
           }
          ],
          "scatterpolar": [
           {
            "marker": {
             "colorbar": {
              "outlinewidth": 0,
              "ticks": ""
             }
            },
            "type": "scatterpolar"
           }
          ],
          "scatterpolargl": [
           {
            "marker": {
             "colorbar": {
              "outlinewidth": 0,
              "ticks": ""
             }
            },
            "type": "scatterpolargl"
           }
          ],
          "scatterternary": [
           {
            "marker": {
             "colorbar": {
              "outlinewidth": 0,
              "ticks": ""
             }
            },
            "type": "scatterternary"
           }
          ],
          "surface": [
           {
            "colorbar": {
             "outlinewidth": 0,
             "ticks": ""
            },
            "colorscale": [
             [
              0,
              "#0d0887"
             ],
             [
              0.1111111111111111,
              "#46039f"
             ],
             [
              0.2222222222222222,
              "#7201a8"
             ],
             [
              0.3333333333333333,
              "#9c179e"
             ],
             [
              0.4444444444444444,
              "#bd3786"
             ],
             [
              0.5555555555555556,
              "#d8576b"
             ],
             [
              0.6666666666666666,
              "#ed7953"
             ],
             [
              0.7777777777777778,
              "#fb9f3a"
             ],
             [
              0.8888888888888888,
              "#fdca26"
             ],
             [
              1,
              "#f0f921"
             ]
            ],
            "type": "surface"
           }
          ],
          "table": [
           {
            "cells": {
             "fill": {
              "color": "#EBF0F8"
             },
             "line": {
              "color": "white"
             }
            },
            "header": {
             "fill": {
              "color": "#C8D4E3"
             },
             "line": {
              "color": "white"
             }
            },
            "type": "table"
           }
          ]
         },
         "layout": {
          "annotationdefaults": {
           "arrowcolor": "#2a3f5f",
           "arrowhead": 0,
           "arrowwidth": 1
          },
          "autotypenumbers": "strict",
          "coloraxis": {
           "colorbar": {
            "outlinewidth": 0,
            "ticks": ""
           }
          },
          "colorscale": {
           "diverging": [
            [
             0,
             "#8e0152"
            ],
            [
             0.1,
             "#c51b7d"
            ],
            [
             0.2,
             "#de77ae"
            ],
            [
             0.3,
             "#f1b6da"
            ],
            [
             0.4,
             "#fde0ef"
            ],
            [
             0.5,
             "#f7f7f7"
            ],
            [
             0.6,
             "#e6f5d0"
            ],
            [
             0.7,
             "#b8e186"
            ],
            [
             0.8,
             "#7fbc41"
            ],
            [
             0.9,
             "#4d9221"
            ],
            [
             1,
             "#276419"
            ]
           ],
           "sequential": [
            [
             0,
             "#0d0887"
            ],
            [
             0.1111111111111111,
             "#46039f"
            ],
            [
             0.2222222222222222,
             "#7201a8"
            ],
            [
             0.3333333333333333,
             "#9c179e"
            ],
            [
             0.4444444444444444,
             "#bd3786"
            ],
            [
             0.5555555555555556,
             "#d8576b"
            ],
            [
             0.6666666666666666,
             "#ed7953"
            ],
            [
             0.7777777777777778,
             "#fb9f3a"
            ],
            [
             0.8888888888888888,
             "#fdca26"
            ],
            [
             1,
             "#f0f921"
            ]
           ],
           "sequentialminus": [
            [
             0,
             "#0d0887"
            ],
            [
             0.1111111111111111,
             "#46039f"
            ],
            [
             0.2222222222222222,
             "#7201a8"
            ],
            [
             0.3333333333333333,
             "#9c179e"
            ],
            [
             0.4444444444444444,
             "#bd3786"
            ],
            [
             0.5555555555555556,
             "#d8576b"
            ],
            [
             0.6666666666666666,
             "#ed7953"
            ],
            [
             0.7777777777777778,
             "#fb9f3a"
            ],
            [
             0.8888888888888888,
             "#fdca26"
            ],
            [
             1,
             "#f0f921"
            ]
           ]
          },
          "colorway": [
           "#636efa",
           "#EF553B",
           "#00cc96",
           "#ab63fa",
           "#FFA15A",
           "#19d3f3",
           "#FF6692",
           "#B6E880",
           "#FF97FF",
           "#FECB52"
          ],
          "font": {
           "color": "#2a3f5f"
          },
          "geo": {
           "bgcolor": "white",
           "lakecolor": "white",
           "landcolor": "#E5ECF6",
           "showlakes": true,
           "showland": true,
           "subunitcolor": "white"
          },
          "hoverlabel": {
           "align": "left"
          },
          "hovermode": "closest",
          "mapbox": {
           "style": "light"
          },
          "paper_bgcolor": "white",
          "plot_bgcolor": "#E5ECF6",
          "polar": {
           "angularaxis": {
            "gridcolor": "white",
            "linecolor": "white",
            "ticks": ""
           },
           "bgcolor": "#E5ECF6",
           "radialaxis": {
            "gridcolor": "white",
            "linecolor": "white",
            "ticks": ""
           }
          },
          "scene": {
           "xaxis": {
            "backgroundcolor": "#E5ECF6",
            "gridcolor": "white",
            "gridwidth": 2,
            "linecolor": "white",
            "showbackground": true,
            "ticks": "",
            "zerolinecolor": "white"
           },
           "yaxis": {
            "backgroundcolor": "#E5ECF6",
            "gridcolor": "white",
            "gridwidth": 2,
            "linecolor": "white",
            "showbackground": true,
            "ticks": "",
            "zerolinecolor": "white"
           },
           "zaxis": {
            "backgroundcolor": "#E5ECF6",
            "gridcolor": "white",
            "gridwidth": 2,
            "linecolor": "white",
            "showbackground": true,
            "ticks": "",
            "zerolinecolor": "white"
           }
          },
          "shapedefaults": {
           "line": {
            "color": "#2a3f5f"
           }
          },
          "ternary": {
           "aaxis": {
            "gridcolor": "white",
            "linecolor": "white",
            "ticks": ""
           },
           "baxis": {
            "gridcolor": "white",
            "linecolor": "white",
            "ticks": ""
           },
           "bgcolor": "#E5ECF6",
           "caxis": {
            "gridcolor": "white",
            "linecolor": "white",
            "ticks": ""
           }
          },
          "title": {
           "x": 0.05
          },
          "xaxis": {
           "automargin": true,
           "gridcolor": "white",
           "linecolor": "white",
           "ticks": "",
           "title": {
            "standoff": 15
           },
           "zerolinecolor": "white",
           "zerolinewidth": 2
          },
          "yaxis": {
           "automargin": true,
           "gridcolor": "white",
           "linecolor": "white",
           "ticks": "",
           "title": {
            "standoff": 15
           },
           "zerolinecolor": "white",
           "zerolinewidth": 2
          }
         }
        },
        "title": {
         "text": "Total of Sales per Buying Method"
        },
        "xaxis": {
         "anchor": "y",
         "domain": [
          0,
          1
         ],
         "title": {
          "text": "Shopping Methods"
         }
        },
        "yaxis": {
         "anchor": "x",
         "domain": [
          0,
          1
         ],
         "title": {
          "text": "Order Quantity"
         }
        }
       }
      }
     },
     "metadata": {},
     "output_type": "display_data"
    }
   ],
   "source": [
    "#graphing the data for quantity per buying method\n",
    "graph2 = groupedSales.reset_index(drop=False)\n",
    "\n",
    "bar2 = px.bar(\n",
    "    data_frame=graph2,\n",
    "    x='Sales Channel',\n",
    "    y='Order Quantity',\n",
    "    color='Order Quantity',\n",
    "    text_auto='.3s',\n",
    "    title='Total of Sales per Buying Method',\n",
    "    labels={ 'Sales Channel': 'Shopping Methods'\n",
    "\n",
    "    }\n",
    ")\n",
    "bar2\n"
   ]
  },
  {
   "cell_type": "code",
   "execution_count": 10,
   "metadata": {},
   "outputs": [
    {
     "data": {
      "application/vnd.plotly.v1+json": {
       "config": {
        "plotlyServerURL": "https://plot.ly"
       },
       "data": [
        {
         "customdata": [
          [
           41484418453.359985
          ],
          [
           22507217694.509995
          ],
          [
           7541894944.85
          ],
          [
           3115867980
          ]
         ],
         "domain": {
          "x": [
           0,
           1
          ],
          "y": [
           0,
           1
          ]
         },
         "hovertemplate": "Sales Channel=%{label}<br>Profit=%{customdata[0]}<extra></extra>",
         "labels": [
          "In-Store",
          "Online",
          "Distributor",
          "Wholesale"
         ],
         "legendgroup": "",
         "marker": {
          "colors": [
           "#00cc96",
           "#ab63fa",
           "#FFA15A",
           "#19d3f3"
          ]
         },
         "name": "",
         "showlegend": true,
         "type": "pie",
         "values": [
          41484418453.359985,
          22507217694.509995,
          7541894944.85,
          3115867980
         ]
        }
       ],
       "layout": {
        "legend": {
         "tracegroupgap": 0
        },
        "template": {
         "data": {
          "bar": [
           {
            "error_x": {
             "color": "#2a3f5f"
            },
            "error_y": {
             "color": "#2a3f5f"
            },
            "marker": {
             "line": {
              "color": "#E5ECF6",
              "width": 0.5
             },
             "pattern": {
              "fillmode": "overlay",
              "size": 10,
              "solidity": 0.2
             }
            },
            "type": "bar"
           }
          ],
          "barpolar": [
           {
            "marker": {
             "line": {
              "color": "#E5ECF6",
              "width": 0.5
             },
             "pattern": {
              "fillmode": "overlay",
              "size": 10,
              "solidity": 0.2
             }
            },
            "type": "barpolar"
           }
          ],
          "carpet": [
           {
            "aaxis": {
             "endlinecolor": "#2a3f5f",
             "gridcolor": "white",
             "linecolor": "white",
             "minorgridcolor": "white",
             "startlinecolor": "#2a3f5f"
            },
            "baxis": {
             "endlinecolor": "#2a3f5f",
             "gridcolor": "white",
             "linecolor": "white",
             "minorgridcolor": "white",
             "startlinecolor": "#2a3f5f"
            },
            "type": "carpet"
           }
          ],
          "choropleth": [
           {
            "colorbar": {
             "outlinewidth": 0,
             "ticks": ""
            },
            "type": "choropleth"
           }
          ],
          "contour": [
           {
            "colorbar": {
             "outlinewidth": 0,
             "ticks": ""
            },
            "colorscale": [
             [
              0,
              "#0d0887"
             ],
             [
              0.1111111111111111,
              "#46039f"
             ],
             [
              0.2222222222222222,
              "#7201a8"
             ],
             [
              0.3333333333333333,
              "#9c179e"
             ],
             [
              0.4444444444444444,
              "#bd3786"
             ],
             [
              0.5555555555555556,
              "#d8576b"
             ],
             [
              0.6666666666666666,
              "#ed7953"
             ],
             [
              0.7777777777777778,
              "#fb9f3a"
             ],
             [
              0.8888888888888888,
              "#fdca26"
             ],
             [
              1,
              "#f0f921"
             ]
            ],
            "type": "contour"
           }
          ],
          "contourcarpet": [
           {
            "colorbar": {
             "outlinewidth": 0,
             "ticks": ""
            },
            "type": "contourcarpet"
           }
          ],
          "heatmap": [
           {
            "colorbar": {
             "outlinewidth": 0,
             "ticks": ""
            },
            "colorscale": [
             [
              0,
              "#0d0887"
             ],
             [
              0.1111111111111111,
              "#46039f"
             ],
             [
              0.2222222222222222,
              "#7201a8"
             ],
             [
              0.3333333333333333,
              "#9c179e"
             ],
             [
              0.4444444444444444,
              "#bd3786"
             ],
             [
              0.5555555555555556,
              "#d8576b"
             ],
             [
              0.6666666666666666,
              "#ed7953"
             ],
             [
              0.7777777777777778,
              "#fb9f3a"
             ],
             [
              0.8888888888888888,
              "#fdca26"
             ],
             [
              1,
              "#f0f921"
             ]
            ],
            "type": "heatmap"
           }
          ],
          "heatmapgl": [
           {
            "colorbar": {
             "outlinewidth": 0,
             "ticks": ""
            },
            "colorscale": [
             [
              0,
              "#0d0887"
             ],
             [
              0.1111111111111111,
              "#46039f"
             ],
             [
              0.2222222222222222,
              "#7201a8"
             ],
             [
              0.3333333333333333,
              "#9c179e"
             ],
             [
              0.4444444444444444,
              "#bd3786"
             ],
             [
              0.5555555555555556,
              "#d8576b"
             ],
             [
              0.6666666666666666,
              "#ed7953"
             ],
             [
              0.7777777777777778,
              "#fb9f3a"
             ],
             [
              0.8888888888888888,
              "#fdca26"
             ],
             [
              1,
              "#f0f921"
             ]
            ],
            "type": "heatmapgl"
           }
          ],
          "histogram": [
           {
            "marker": {
             "pattern": {
              "fillmode": "overlay",
              "size": 10,
              "solidity": 0.2
             }
            },
            "type": "histogram"
           }
          ],
          "histogram2d": [
           {
            "colorbar": {
             "outlinewidth": 0,
             "ticks": ""
            },
            "colorscale": [
             [
              0,
              "#0d0887"
             ],
             [
              0.1111111111111111,
              "#46039f"
             ],
             [
              0.2222222222222222,
              "#7201a8"
             ],
             [
              0.3333333333333333,
              "#9c179e"
             ],
             [
              0.4444444444444444,
              "#bd3786"
             ],
             [
              0.5555555555555556,
              "#d8576b"
             ],
             [
              0.6666666666666666,
              "#ed7953"
             ],
             [
              0.7777777777777778,
              "#fb9f3a"
             ],
             [
              0.8888888888888888,
              "#fdca26"
             ],
             [
              1,
              "#f0f921"
             ]
            ],
            "type": "histogram2d"
           }
          ],
          "histogram2dcontour": [
           {
            "colorbar": {
             "outlinewidth": 0,
             "ticks": ""
            },
            "colorscale": [
             [
              0,
              "#0d0887"
             ],
             [
              0.1111111111111111,
              "#46039f"
             ],
             [
              0.2222222222222222,
              "#7201a8"
             ],
             [
              0.3333333333333333,
              "#9c179e"
             ],
             [
              0.4444444444444444,
              "#bd3786"
             ],
             [
              0.5555555555555556,
              "#d8576b"
             ],
             [
              0.6666666666666666,
              "#ed7953"
             ],
             [
              0.7777777777777778,
              "#fb9f3a"
             ],
             [
              0.8888888888888888,
              "#fdca26"
             ],
             [
              1,
              "#f0f921"
             ]
            ],
            "type": "histogram2dcontour"
           }
          ],
          "mesh3d": [
           {
            "colorbar": {
             "outlinewidth": 0,
             "ticks": ""
            },
            "type": "mesh3d"
           }
          ],
          "parcoords": [
           {
            "line": {
             "colorbar": {
              "outlinewidth": 0,
              "ticks": ""
             }
            },
            "type": "parcoords"
           }
          ],
          "pie": [
           {
            "automargin": true,
            "type": "pie"
           }
          ],
          "scatter": [
           {
            "fillpattern": {
             "fillmode": "overlay",
             "size": 10,
             "solidity": 0.2
            },
            "type": "scatter"
           }
          ],
          "scatter3d": [
           {
            "line": {
             "colorbar": {
              "outlinewidth": 0,
              "ticks": ""
             }
            },
            "marker": {
             "colorbar": {
              "outlinewidth": 0,
              "ticks": ""
             }
            },
            "type": "scatter3d"
           }
          ],
          "scattercarpet": [
           {
            "marker": {
             "colorbar": {
              "outlinewidth": 0,
              "ticks": ""
             }
            },
            "type": "scattercarpet"
           }
          ],
          "scattergeo": [
           {
            "marker": {
             "colorbar": {
              "outlinewidth": 0,
              "ticks": ""
             }
            },
            "type": "scattergeo"
           }
          ],
          "scattergl": [
           {
            "marker": {
             "colorbar": {
              "outlinewidth": 0,
              "ticks": ""
             }
            },
            "type": "scattergl"
           }
          ],
          "scattermapbox": [
           {
            "marker": {
             "colorbar": {
              "outlinewidth": 0,
              "ticks": ""
             }
            },
            "type": "scattermapbox"
           }
          ],
          "scatterpolar": [
           {
            "marker": {
             "colorbar": {
              "outlinewidth": 0,
              "ticks": ""
             }
            },
            "type": "scatterpolar"
           }
          ],
          "scatterpolargl": [
           {
            "marker": {
             "colorbar": {
              "outlinewidth": 0,
              "ticks": ""
             }
            },
            "type": "scatterpolargl"
           }
          ],
          "scatterternary": [
           {
            "marker": {
             "colorbar": {
              "outlinewidth": 0,
              "ticks": ""
             }
            },
            "type": "scatterternary"
           }
          ],
          "surface": [
           {
            "colorbar": {
             "outlinewidth": 0,
             "ticks": ""
            },
            "colorscale": [
             [
              0,
              "#0d0887"
             ],
             [
              0.1111111111111111,
              "#46039f"
             ],
             [
              0.2222222222222222,
              "#7201a8"
             ],
             [
              0.3333333333333333,
              "#9c179e"
             ],
             [
              0.4444444444444444,
              "#bd3786"
             ],
             [
              0.5555555555555556,
              "#d8576b"
             ],
             [
              0.6666666666666666,
              "#ed7953"
             ],
             [
              0.7777777777777778,
              "#fb9f3a"
             ],
             [
              0.8888888888888888,
              "#fdca26"
             ],
             [
              1,
              "#f0f921"
             ]
            ],
            "type": "surface"
           }
          ],
          "table": [
           {
            "cells": {
             "fill": {
              "color": "#EBF0F8"
             },
             "line": {
              "color": "white"
             }
            },
            "header": {
             "fill": {
              "color": "#C8D4E3"
             },
             "line": {
              "color": "white"
             }
            },
            "type": "table"
           }
          ]
         },
         "layout": {
          "annotationdefaults": {
           "arrowcolor": "#2a3f5f",
           "arrowhead": 0,
           "arrowwidth": 1
          },
          "autotypenumbers": "strict",
          "coloraxis": {
           "colorbar": {
            "outlinewidth": 0,
            "ticks": ""
           }
          },
          "colorscale": {
           "diverging": [
            [
             0,
             "#8e0152"
            ],
            [
             0.1,
             "#c51b7d"
            ],
            [
             0.2,
             "#de77ae"
            ],
            [
             0.3,
             "#f1b6da"
            ],
            [
             0.4,
             "#fde0ef"
            ],
            [
             0.5,
             "#f7f7f7"
            ],
            [
             0.6,
             "#e6f5d0"
            ],
            [
             0.7,
             "#b8e186"
            ],
            [
             0.8,
             "#7fbc41"
            ],
            [
             0.9,
             "#4d9221"
            ],
            [
             1,
             "#276419"
            ]
           ],
           "sequential": [
            [
             0,
             "#0d0887"
            ],
            [
             0.1111111111111111,
             "#46039f"
            ],
            [
             0.2222222222222222,
             "#7201a8"
            ],
            [
             0.3333333333333333,
             "#9c179e"
            ],
            [
             0.4444444444444444,
             "#bd3786"
            ],
            [
             0.5555555555555556,
             "#d8576b"
            ],
            [
             0.6666666666666666,
             "#ed7953"
            ],
            [
             0.7777777777777778,
             "#fb9f3a"
            ],
            [
             0.8888888888888888,
             "#fdca26"
            ],
            [
             1,
             "#f0f921"
            ]
           ],
           "sequentialminus": [
            [
             0,
             "#0d0887"
            ],
            [
             0.1111111111111111,
             "#46039f"
            ],
            [
             0.2222222222222222,
             "#7201a8"
            ],
            [
             0.3333333333333333,
             "#9c179e"
            ],
            [
             0.4444444444444444,
             "#bd3786"
            ],
            [
             0.5555555555555556,
             "#d8576b"
            ],
            [
             0.6666666666666666,
             "#ed7953"
            ],
            [
             0.7777777777777778,
             "#fb9f3a"
            ],
            [
             0.8888888888888888,
             "#fdca26"
            ],
            [
             1,
             "#f0f921"
            ]
           ]
          },
          "colorway": [
           "#636efa",
           "#EF553B",
           "#00cc96",
           "#ab63fa",
           "#FFA15A",
           "#19d3f3",
           "#FF6692",
           "#B6E880",
           "#FF97FF",
           "#FECB52"
          ],
          "font": {
           "color": "#2a3f5f"
          },
          "geo": {
           "bgcolor": "white",
           "lakecolor": "white",
           "landcolor": "#E5ECF6",
           "showlakes": true,
           "showland": true,
           "subunitcolor": "white"
          },
          "hoverlabel": {
           "align": "left"
          },
          "hovermode": "closest",
          "mapbox": {
           "style": "light"
          },
          "paper_bgcolor": "white",
          "plot_bgcolor": "#E5ECF6",
          "polar": {
           "angularaxis": {
            "gridcolor": "white",
            "linecolor": "white",
            "ticks": ""
           },
           "bgcolor": "#E5ECF6",
           "radialaxis": {
            "gridcolor": "white",
            "linecolor": "white",
            "ticks": ""
           }
          },
          "scene": {
           "xaxis": {
            "backgroundcolor": "#E5ECF6",
            "gridcolor": "white",
            "gridwidth": 2,
            "linecolor": "white",
            "showbackground": true,
            "ticks": "",
            "zerolinecolor": "white"
           },
           "yaxis": {
            "backgroundcolor": "#E5ECF6",
            "gridcolor": "white",
            "gridwidth": 2,
            "linecolor": "white",
            "showbackground": true,
            "ticks": "",
            "zerolinecolor": "white"
           },
           "zaxis": {
            "backgroundcolor": "#E5ECF6",
            "gridcolor": "white",
            "gridwidth": 2,
            "linecolor": "white",
            "showbackground": true,
            "ticks": "",
            "zerolinecolor": "white"
           }
          },
          "shapedefaults": {
           "line": {
            "color": "#2a3f5f"
           }
          },
          "ternary": {
           "aaxis": {
            "gridcolor": "white",
            "linecolor": "white",
            "ticks": ""
           },
           "baxis": {
            "gridcolor": "white",
            "linecolor": "white",
            "ticks": ""
           },
           "bgcolor": "#E5ECF6",
           "caxis": {
            "gridcolor": "white",
            "linecolor": "white",
            "ticks": ""
           }
          },
          "title": {
           "x": 0.05
          },
          "xaxis": {
           "automargin": true,
           "gridcolor": "white",
           "linecolor": "white",
           "ticks": "",
           "title": {
            "standoff": 15
           },
           "zerolinecolor": "white",
           "zerolinewidth": 2
          },
          "yaxis": {
           "automargin": true,
           "gridcolor": "white",
           "linecolor": "white",
           "ticks": "",
           "title": {
            "standoff": 15
           },
           "zerolinecolor": "white",
           "zerolinewidth": 2
          }
         }
        },
        "title": {
         "text": "Profit per Method of Buying"
        }
       }
      }
     },
     "metadata": {},
     "output_type": "display_data"
    }
   ],
   "source": [
    "#Graphing profit per shopping method \n",
    "bar2= px.pie(\n",
    "    data_frame=graph2,\n",
    "    values='Profit',\n",
    "    names='Sales Channel',\n",
    "    color='Profit',\n",
    "    title= 'Profit per Method of Buying',\n",
    "    color_discrete_map={\n",
    "        'In-Store': 'lightcyan',\n",
    "        'Online': 'cyan',\n",
    "    }\n",
    ")\n",
    "bar2"
   ]
  },
  {
   "cell_type": "code",
   "execution_count": 11,
   "metadata": {},
   "outputs": [
    {
     "data": {
      "text/html": [
       "<div>\n",
       "<style scoped>\n",
       "    .dataframe tbody tr th:only-of-type {\n",
       "        vertical-align: middle;\n",
       "    }\n",
       "\n",
       "    .dataframe tbody tr th {\n",
       "        vertical-align: top;\n",
       "    }\n",
       "\n",
       "    .dataframe thead th {\n",
       "        text-align: right;\n",
       "    }\n",
       "</style>\n",
       "<table border=\"1\" class=\"dataframe\">\n",
       "  <thead>\n",
       "    <tr style=\"text-align: right;\">\n",
       "      <th></th>\n",
       "      <th>Order Quantity</th>\n",
       "    </tr>\n",
       "    <tr>\n",
       "      <th>_ProductID</th>\n",
       "      <th></th>\n",
       "    </tr>\n",
       "  </thead>\n",
       "  <tbody>\n",
       "    <tr>\n",
       "      <th>23</th>\n",
       "      <td>956</td>\n",
       "    </tr>\n",
       "    <tr>\n",
       "      <th>37</th>\n",
       "      <td>896</td>\n",
       "    </tr>\n",
       "    <tr>\n",
       "      <th>8</th>\n",
       "      <td>879</td>\n",
       "    </tr>\n",
       "    <tr>\n",
       "      <th>4</th>\n",
       "      <td>878</td>\n",
       "    </tr>\n",
       "    <tr>\n",
       "      <th>40</th>\n",
       "      <td>855</td>\n",
       "    </tr>\n",
       "    <tr>\n",
       "      <th>41</th>\n",
       "      <td>854</td>\n",
       "    </tr>\n",
       "    <tr>\n",
       "      <th>22</th>\n",
       "      <td>837</td>\n",
       "    </tr>\n",
       "    <tr>\n",
       "      <th>38</th>\n",
       "      <td>832</td>\n",
       "    </tr>\n",
       "    <tr>\n",
       "      <th>27</th>\n",
       "      <td>830</td>\n",
       "    </tr>\n",
       "    <tr>\n",
       "      <th>12</th>\n",
       "      <td>827</td>\n",
       "    </tr>\n",
       "    <tr>\n",
       "      <th>2</th>\n",
       "      <td>819</td>\n",
       "    </tr>\n",
       "    <tr>\n",
       "      <th>29</th>\n",
       "      <td>818</td>\n",
       "    </tr>\n",
       "    <tr>\n",
       "      <th>46</th>\n",
       "      <td>817</td>\n",
       "    </tr>\n",
       "    <tr>\n",
       "      <th>11</th>\n",
       "      <td>814</td>\n",
       "    </tr>\n",
       "    <tr>\n",
       "      <th>16</th>\n",
       "      <td>814</td>\n",
       "    </tr>\n",
       "    <tr>\n",
       "      <th>5</th>\n",
       "      <td>811</td>\n",
       "    </tr>\n",
       "    <tr>\n",
       "      <th>28</th>\n",
       "      <td>809</td>\n",
       "    </tr>\n",
       "    <tr>\n",
       "      <th>25</th>\n",
       "      <td>809</td>\n",
       "    </tr>\n",
       "    <tr>\n",
       "      <th>17</th>\n",
       "      <td>807</td>\n",
       "    </tr>\n",
       "    <tr>\n",
       "      <th>20</th>\n",
       "      <td>798</td>\n",
       "    </tr>\n",
       "    <tr>\n",
       "      <th>21</th>\n",
       "      <td>789</td>\n",
       "    </tr>\n",
       "    <tr>\n",
       "      <th>45</th>\n",
       "      <td>786</td>\n",
       "    </tr>\n",
       "    <tr>\n",
       "      <th>13</th>\n",
       "      <td>777</td>\n",
       "    </tr>\n",
       "    <tr>\n",
       "      <th>19</th>\n",
       "      <td>772</td>\n",
       "    </tr>\n",
       "    <tr>\n",
       "      <th>9</th>\n",
       "      <td>772</td>\n",
       "    </tr>\n",
       "    <tr>\n",
       "      <th>43</th>\n",
       "      <td>771</td>\n",
       "    </tr>\n",
       "    <tr>\n",
       "      <th>35</th>\n",
       "      <td>770</td>\n",
       "    </tr>\n",
       "    <tr>\n",
       "      <th>36</th>\n",
       "      <td>769</td>\n",
       "    </tr>\n",
       "    <tr>\n",
       "      <th>31</th>\n",
       "      <td>768</td>\n",
       "    </tr>\n",
       "    <tr>\n",
       "      <th>14</th>\n",
       "      <td>766</td>\n",
       "    </tr>\n",
       "    <tr>\n",
       "      <th>3</th>\n",
       "      <td>764</td>\n",
       "    </tr>\n",
       "    <tr>\n",
       "      <th>24</th>\n",
       "      <td>759</td>\n",
       "    </tr>\n",
       "    <tr>\n",
       "      <th>10</th>\n",
       "      <td>755</td>\n",
       "    </tr>\n",
       "    <tr>\n",
       "      <th>7</th>\n",
       "      <td>735</td>\n",
       "    </tr>\n",
       "    <tr>\n",
       "      <th>26</th>\n",
       "      <td>723</td>\n",
       "    </tr>\n",
       "    <tr>\n",
       "      <th>39</th>\n",
       "      <td>717</td>\n",
       "    </tr>\n",
       "    <tr>\n",
       "      <th>33</th>\n",
       "      <td>695</td>\n",
       "    </tr>\n",
       "    <tr>\n",
       "      <th>1</th>\n",
       "      <td>681</td>\n",
       "    </tr>\n",
       "    <tr>\n",
       "      <th>47</th>\n",
       "      <td>680</td>\n",
       "    </tr>\n",
       "    <tr>\n",
       "      <th>6</th>\n",
       "      <td>663</td>\n",
       "    </tr>\n",
       "    <tr>\n",
       "      <th>32</th>\n",
       "      <td>660</td>\n",
       "    </tr>\n",
       "    <tr>\n",
       "      <th>15</th>\n",
       "      <td>658</td>\n",
       "    </tr>\n",
       "    <tr>\n",
       "      <th>30</th>\n",
       "      <td>656</td>\n",
       "    </tr>\n",
       "    <tr>\n",
       "      <th>42</th>\n",
       "      <td>652</td>\n",
       "    </tr>\n",
       "    <tr>\n",
       "      <th>18</th>\n",
       "      <td>644</td>\n",
       "    </tr>\n",
       "    <tr>\n",
       "      <th>34</th>\n",
       "      <td>635</td>\n",
       "    </tr>\n",
       "    <tr>\n",
       "      <th>44</th>\n",
       "      <td>585</td>\n",
       "    </tr>\n",
       "  </tbody>\n",
       "</table>\n",
       "</div>"
      ],
      "text/plain": [
       "            Order Quantity\n",
       "_ProductID                \n",
       "23                     956\n",
       "37                     896\n",
       "8                      879\n",
       "4                      878\n",
       "40                     855\n",
       "41                     854\n",
       "22                     837\n",
       "38                     832\n",
       "27                     830\n",
       "12                     827\n",
       "2                      819\n",
       "29                     818\n",
       "46                     817\n",
       "11                     814\n",
       "16                     814\n",
       "5                      811\n",
       "28                     809\n",
       "25                     809\n",
       "17                     807\n",
       "20                     798\n",
       "21                     789\n",
       "45                     786\n",
       "13                     777\n",
       "19                     772\n",
       "9                      772\n",
       "43                     771\n",
       "35                     770\n",
       "36                     769\n",
       "31                     768\n",
       "14                     766\n",
       "3                      764\n",
       "24                     759\n",
       "10                     755\n",
       "7                      735\n",
       "26                     723\n",
       "39                     717\n",
       "33                     695\n",
       "1                      681\n",
       "47                     680\n",
       "6                      663\n",
       "32                     660\n",
       "15                     658\n",
       "30                     656\n",
       "42                     652\n",
       "18                     644\n",
       "34                     635\n",
       "44                     585"
      ]
     },
     "execution_count": 11,
     "metadata": {},
     "output_type": "execute_result"
    }
   ],
   "source": [
    "#Finding Which item sold the best\n",
    "totalItems = df.groupby('_ProductID').agg({'Order Quantity': 'sum'}).sort_values(by='Order Quantity', ascending=False)\n",
    "totalItems"
   ]
  },
  {
   "cell_type": "code",
   "execution_count": 13,
   "metadata": {},
   "outputs": [
    {
     "data": {
      "application/vnd.plotly.v1+json": {
       "config": {
        "plotlyServerURL": "https://plot.ly"
       },
       "data": [
        {
         "alignmentgroup": "True",
         "hovertemplate": "_ProductID=%{x}<br>Order Quantity=%{marker.color}<extra></extra>",
         "legendgroup": "",
         "marker": {
          "color": [
           956,
           896,
           879,
           878,
           855,
           854,
           837,
           832,
           830,
           827,
           819,
           818,
           817,
           814,
           814,
           811,
           809,
           809,
           807,
           798,
           789,
           786,
           777,
           772,
           772,
           771,
           770,
           769,
           768,
           766,
           764,
           759,
           755,
           735,
           723,
           717,
           695,
           681,
           680,
           663,
           660,
           658,
           656,
           652,
           644,
           635,
           585
          ],
          "coloraxis": "coloraxis",
          "pattern": {
           "shape": ""
          }
         },
         "name": "",
         "offsetgroup": "",
         "orientation": "v",
         "showlegend": false,
         "textangle": 0,
         "textposition": "outside",
         "texttemplate": "%{y:.3s}",
         "type": "bar",
         "x": [
          23,
          37,
          8,
          4,
          40,
          41,
          22,
          38,
          27,
          12,
          2,
          29,
          46,
          11,
          16,
          5,
          28,
          25,
          17,
          20,
          21,
          45,
          13,
          19,
          9,
          43,
          35,
          36,
          31,
          14,
          3,
          24,
          10,
          7,
          26,
          39,
          33,
          1,
          47,
          6,
          32,
          15,
          30,
          42,
          18,
          34,
          44
         ],
         "xaxis": "x",
         "y": [
          956,
          896,
          879,
          878,
          855,
          854,
          837,
          832,
          830,
          827,
          819,
          818,
          817,
          814,
          814,
          811,
          809,
          809,
          807,
          798,
          789,
          786,
          777,
          772,
          772,
          771,
          770,
          769,
          768,
          766,
          764,
          759,
          755,
          735,
          723,
          717,
          695,
          681,
          680,
          663,
          660,
          658,
          656,
          652,
          644,
          635,
          585
         ],
         "yaxis": "y"
        }
       ],
       "layout": {
        "barmode": "relative",
        "coloraxis": {
         "colorbar": {
          "title": {
           "text": "Order Quantity"
          }
         },
         "colorscale": [
          [
           0,
           "#0d0887"
          ],
          [
           0.1111111111111111,
           "#46039f"
          ],
          [
           0.2222222222222222,
           "#7201a8"
          ],
          [
           0.3333333333333333,
           "#9c179e"
          ],
          [
           0.4444444444444444,
           "#bd3786"
          ],
          [
           0.5555555555555556,
           "#d8576b"
          ],
          [
           0.6666666666666666,
           "#ed7953"
          ],
          [
           0.7777777777777778,
           "#fb9f3a"
          ],
          [
           0.8888888888888888,
           "#fdca26"
          ],
          [
           1,
           "#f0f921"
          ]
         ]
        },
        "legend": {
         "tracegroupgap": 0
        },
        "template": {
         "data": {
          "bar": [
           {
            "error_x": {
             "color": "#2a3f5f"
            },
            "error_y": {
             "color": "#2a3f5f"
            },
            "marker": {
             "line": {
              "color": "#E5ECF6",
              "width": 0.5
             },
             "pattern": {
              "fillmode": "overlay",
              "size": 10,
              "solidity": 0.2
             }
            },
            "type": "bar"
           }
          ],
          "barpolar": [
           {
            "marker": {
             "line": {
              "color": "#E5ECF6",
              "width": 0.5
             },
             "pattern": {
              "fillmode": "overlay",
              "size": 10,
              "solidity": 0.2
             }
            },
            "type": "barpolar"
           }
          ],
          "carpet": [
           {
            "aaxis": {
             "endlinecolor": "#2a3f5f",
             "gridcolor": "white",
             "linecolor": "white",
             "minorgridcolor": "white",
             "startlinecolor": "#2a3f5f"
            },
            "baxis": {
             "endlinecolor": "#2a3f5f",
             "gridcolor": "white",
             "linecolor": "white",
             "minorgridcolor": "white",
             "startlinecolor": "#2a3f5f"
            },
            "type": "carpet"
           }
          ],
          "choropleth": [
           {
            "colorbar": {
             "outlinewidth": 0,
             "ticks": ""
            },
            "type": "choropleth"
           }
          ],
          "contour": [
           {
            "colorbar": {
             "outlinewidth": 0,
             "ticks": ""
            },
            "colorscale": [
             [
              0,
              "#0d0887"
             ],
             [
              0.1111111111111111,
              "#46039f"
             ],
             [
              0.2222222222222222,
              "#7201a8"
             ],
             [
              0.3333333333333333,
              "#9c179e"
             ],
             [
              0.4444444444444444,
              "#bd3786"
             ],
             [
              0.5555555555555556,
              "#d8576b"
             ],
             [
              0.6666666666666666,
              "#ed7953"
             ],
             [
              0.7777777777777778,
              "#fb9f3a"
             ],
             [
              0.8888888888888888,
              "#fdca26"
             ],
             [
              1,
              "#f0f921"
             ]
            ],
            "type": "contour"
           }
          ],
          "contourcarpet": [
           {
            "colorbar": {
             "outlinewidth": 0,
             "ticks": ""
            },
            "type": "contourcarpet"
           }
          ],
          "heatmap": [
           {
            "colorbar": {
             "outlinewidth": 0,
             "ticks": ""
            },
            "colorscale": [
             [
              0,
              "#0d0887"
             ],
             [
              0.1111111111111111,
              "#46039f"
             ],
             [
              0.2222222222222222,
              "#7201a8"
             ],
             [
              0.3333333333333333,
              "#9c179e"
             ],
             [
              0.4444444444444444,
              "#bd3786"
             ],
             [
              0.5555555555555556,
              "#d8576b"
             ],
             [
              0.6666666666666666,
              "#ed7953"
             ],
             [
              0.7777777777777778,
              "#fb9f3a"
             ],
             [
              0.8888888888888888,
              "#fdca26"
             ],
             [
              1,
              "#f0f921"
             ]
            ],
            "type": "heatmap"
           }
          ],
          "heatmapgl": [
           {
            "colorbar": {
             "outlinewidth": 0,
             "ticks": ""
            },
            "colorscale": [
             [
              0,
              "#0d0887"
             ],
             [
              0.1111111111111111,
              "#46039f"
             ],
             [
              0.2222222222222222,
              "#7201a8"
             ],
             [
              0.3333333333333333,
              "#9c179e"
             ],
             [
              0.4444444444444444,
              "#bd3786"
             ],
             [
              0.5555555555555556,
              "#d8576b"
             ],
             [
              0.6666666666666666,
              "#ed7953"
             ],
             [
              0.7777777777777778,
              "#fb9f3a"
             ],
             [
              0.8888888888888888,
              "#fdca26"
             ],
             [
              1,
              "#f0f921"
             ]
            ],
            "type": "heatmapgl"
           }
          ],
          "histogram": [
           {
            "marker": {
             "pattern": {
              "fillmode": "overlay",
              "size": 10,
              "solidity": 0.2
             }
            },
            "type": "histogram"
           }
          ],
          "histogram2d": [
           {
            "colorbar": {
             "outlinewidth": 0,
             "ticks": ""
            },
            "colorscale": [
             [
              0,
              "#0d0887"
             ],
             [
              0.1111111111111111,
              "#46039f"
             ],
             [
              0.2222222222222222,
              "#7201a8"
             ],
             [
              0.3333333333333333,
              "#9c179e"
             ],
             [
              0.4444444444444444,
              "#bd3786"
             ],
             [
              0.5555555555555556,
              "#d8576b"
             ],
             [
              0.6666666666666666,
              "#ed7953"
             ],
             [
              0.7777777777777778,
              "#fb9f3a"
             ],
             [
              0.8888888888888888,
              "#fdca26"
             ],
             [
              1,
              "#f0f921"
             ]
            ],
            "type": "histogram2d"
           }
          ],
          "histogram2dcontour": [
           {
            "colorbar": {
             "outlinewidth": 0,
             "ticks": ""
            },
            "colorscale": [
             [
              0,
              "#0d0887"
             ],
             [
              0.1111111111111111,
              "#46039f"
             ],
             [
              0.2222222222222222,
              "#7201a8"
             ],
             [
              0.3333333333333333,
              "#9c179e"
             ],
             [
              0.4444444444444444,
              "#bd3786"
             ],
             [
              0.5555555555555556,
              "#d8576b"
             ],
             [
              0.6666666666666666,
              "#ed7953"
             ],
             [
              0.7777777777777778,
              "#fb9f3a"
             ],
             [
              0.8888888888888888,
              "#fdca26"
             ],
             [
              1,
              "#f0f921"
             ]
            ],
            "type": "histogram2dcontour"
           }
          ],
          "mesh3d": [
           {
            "colorbar": {
             "outlinewidth": 0,
             "ticks": ""
            },
            "type": "mesh3d"
           }
          ],
          "parcoords": [
           {
            "line": {
             "colorbar": {
              "outlinewidth": 0,
              "ticks": ""
             }
            },
            "type": "parcoords"
           }
          ],
          "pie": [
           {
            "automargin": true,
            "type": "pie"
           }
          ],
          "scatter": [
           {
            "fillpattern": {
             "fillmode": "overlay",
             "size": 10,
             "solidity": 0.2
            },
            "type": "scatter"
           }
          ],
          "scatter3d": [
           {
            "line": {
             "colorbar": {
              "outlinewidth": 0,
              "ticks": ""
             }
            },
            "marker": {
             "colorbar": {
              "outlinewidth": 0,
              "ticks": ""
             }
            },
            "type": "scatter3d"
           }
          ],
          "scattercarpet": [
           {
            "marker": {
             "colorbar": {
              "outlinewidth": 0,
              "ticks": ""
             }
            },
            "type": "scattercarpet"
           }
          ],
          "scattergeo": [
           {
            "marker": {
             "colorbar": {
              "outlinewidth": 0,
              "ticks": ""
             }
            },
            "type": "scattergeo"
           }
          ],
          "scattergl": [
           {
            "marker": {
             "colorbar": {
              "outlinewidth": 0,
              "ticks": ""
             }
            },
            "type": "scattergl"
           }
          ],
          "scattermapbox": [
           {
            "marker": {
             "colorbar": {
              "outlinewidth": 0,
              "ticks": ""
             }
            },
            "type": "scattermapbox"
           }
          ],
          "scatterpolar": [
           {
            "marker": {
             "colorbar": {
              "outlinewidth": 0,
              "ticks": ""
             }
            },
            "type": "scatterpolar"
           }
          ],
          "scatterpolargl": [
           {
            "marker": {
             "colorbar": {
              "outlinewidth": 0,
              "ticks": ""
             }
            },
            "type": "scatterpolargl"
           }
          ],
          "scatterternary": [
           {
            "marker": {
             "colorbar": {
              "outlinewidth": 0,
              "ticks": ""
             }
            },
            "type": "scatterternary"
           }
          ],
          "surface": [
           {
            "colorbar": {
             "outlinewidth": 0,
             "ticks": ""
            },
            "colorscale": [
             [
              0,
              "#0d0887"
             ],
             [
              0.1111111111111111,
              "#46039f"
             ],
             [
              0.2222222222222222,
              "#7201a8"
             ],
             [
              0.3333333333333333,
              "#9c179e"
             ],
             [
              0.4444444444444444,
              "#bd3786"
             ],
             [
              0.5555555555555556,
              "#d8576b"
             ],
             [
              0.6666666666666666,
              "#ed7953"
             ],
             [
              0.7777777777777778,
              "#fb9f3a"
             ],
             [
              0.8888888888888888,
              "#fdca26"
             ],
             [
              1,
              "#f0f921"
             ]
            ],
            "type": "surface"
           }
          ],
          "table": [
           {
            "cells": {
             "fill": {
              "color": "#EBF0F8"
             },
             "line": {
              "color": "white"
             }
            },
            "header": {
             "fill": {
              "color": "#C8D4E3"
             },
             "line": {
              "color": "white"
             }
            },
            "type": "table"
           }
          ]
         },
         "layout": {
          "annotationdefaults": {
           "arrowcolor": "#2a3f5f",
           "arrowhead": 0,
           "arrowwidth": 1
          },
          "autotypenumbers": "strict",
          "coloraxis": {
           "colorbar": {
            "outlinewidth": 0,
            "ticks": ""
           }
          },
          "colorscale": {
           "diverging": [
            [
             0,
             "#8e0152"
            ],
            [
             0.1,
             "#c51b7d"
            ],
            [
             0.2,
             "#de77ae"
            ],
            [
             0.3,
             "#f1b6da"
            ],
            [
             0.4,
             "#fde0ef"
            ],
            [
             0.5,
             "#f7f7f7"
            ],
            [
             0.6,
             "#e6f5d0"
            ],
            [
             0.7,
             "#b8e186"
            ],
            [
             0.8,
             "#7fbc41"
            ],
            [
             0.9,
             "#4d9221"
            ],
            [
             1,
             "#276419"
            ]
           ],
           "sequential": [
            [
             0,
             "#0d0887"
            ],
            [
             0.1111111111111111,
             "#46039f"
            ],
            [
             0.2222222222222222,
             "#7201a8"
            ],
            [
             0.3333333333333333,
             "#9c179e"
            ],
            [
             0.4444444444444444,
             "#bd3786"
            ],
            [
             0.5555555555555556,
             "#d8576b"
            ],
            [
             0.6666666666666666,
             "#ed7953"
            ],
            [
             0.7777777777777778,
             "#fb9f3a"
            ],
            [
             0.8888888888888888,
             "#fdca26"
            ],
            [
             1,
             "#f0f921"
            ]
           ],
           "sequentialminus": [
            [
             0,
             "#0d0887"
            ],
            [
             0.1111111111111111,
             "#46039f"
            ],
            [
             0.2222222222222222,
             "#7201a8"
            ],
            [
             0.3333333333333333,
             "#9c179e"
            ],
            [
             0.4444444444444444,
             "#bd3786"
            ],
            [
             0.5555555555555556,
             "#d8576b"
            ],
            [
             0.6666666666666666,
             "#ed7953"
            ],
            [
             0.7777777777777778,
             "#fb9f3a"
            ],
            [
             0.8888888888888888,
             "#fdca26"
            ],
            [
             1,
             "#f0f921"
            ]
           ]
          },
          "colorway": [
           "#636efa",
           "#EF553B",
           "#00cc96",
           "#ab63fa",
           "#FFA15A",
           "#19d3f3",
           "#FF6692",
           "#B6E880",
           "#FF97FF",
           "#FECB52"
          ],
          "font": {
           "color": "#2a3f5f"
          },
          "geo": {
           "bgcolor": "white",
           "lakecolor": "white",
           "landcolor": "#E5ECF6",
           "showlakes": true,
           "showland": true,
           "subunitcolor": "white"
          },
          "hoverlabel": {
           "align": "left"
          },
          "hovermode": "closest",
          "mapbox": {
           "style": "light"
          },
          "paper_bgcolor": "white",
          "plot_bgcolor": "#E5ECF6",
          "polar": {
           "angularaxis": {
            "gridcolor": "white",
            "linecolor": "white",
            "ticks": ""
           },
           "bgcolor": "#E5ECF6",
           "radialaxis": {
            "gridcolor": "white",
            "linecolor": "white",
            "ticks": ""
           }
          },
          "scene": {
           "xaxis": {
            "backgroundcolor": "#E5ECF6",
            "gridcolor": "white",
            "gridwidth": 2,
            "linecolor": "white",
            "showbackground": true,
            "ticks": "",
            "zerolinecolor": "white"
           },
           "yaxis": {
            "backgroundcolor": "#E5ECF6",
            "gridcolor": "white",
            "gridwidth": 2,
            "linecolor": "white",
            "showbackground": true,
            "ticks": "",
            "zerolinecolor": "white"
           },
           "zaxis": {
            "backgroundcolor": "#E5ECF6",
            "gridcolor": "white",
            "gridwidth": 2,
            "linecolor": "white",
            "showbackground": true,
            "ticks": "",
            "zerolinecolor": "white"
           }
          },
          "shapedefaults": {
           "line": {
            "color": "#2a3f5f"
           }
          },
          "ternary": {
           "aaxis": {
            "gridcolor": "white",
            "linecolor": "white",
            "ticks": ""
           },
           "baxis": {
            "gridcolor": "white",
            "linecolor": "white",
            "ticks": ""
           },
           "bgcolor": "#E5ECF6",
           "caxis": {
            "gridcolor": "white",
            "linecolor": "white",
            "ticks": ""
           }
          },
          "title": {
           "x": 0.05
          },
          "xaxis": {
           "automargin": true,
           "gridcolor": "white",
           "linecolor": "white",
           "ticks": "",
           "title": {
            "standoff": 15
           },
           "zerolinecolor": "white",
           "zerolinewidth": 2
          },
          "yaxis": {
           "automargin": true,
           "gridcolor": "white",
           "linecolor": "white",
           "ticks": "",
           "title": {
            "standoff": 15
           },
           "zerolinecolor": "white",
           "zerolinewidth": 2
          }
         }
        },
        "title": {
         "text": "Quantity of items sold by ProductID"
        },
        "xaxis": {
         "anchor": "y",
         "domain": [
          0,
          1
         ],
         "title": {
          "text": "_ProductID"
         }
        },
        "yaxis": {
         "anchor": "x",
         "domain": [
          0,
          1
         ],
         "title": {
          "text": "Order Quantity"
         }
        }
       }
      }
     },
     "metadata": {},
     "output_type": "display_data"
    }
   ],
   "source": [
    "#graphing the data\n",
    "graph3 = totalItems.reset_index(drop=False)\n",
    "\n",
    "bar3 = px.bar(\n",
    "    data_frame=graph3,\n",
    "    x='_ProductID',\n",
    "    y='Order Quantity',\n",
    "    color='Order Quantity',\n",
    "    title='Quantity of items sold by ProductID',\n",
    "    text_auto='.3s'\n",
    ")\n",
    "bar3.update_traces(textposition=\"outside\", textangle= 0)\n",
    "bar3"
   ]
  },
  {
   "cell_type": "code",
   "execution_count": 14,
   "metadata": {},
   "outputs": [],
   "source": [
    "#Exporting all the data to make a dashboard in PowerBI\n",
    "graph1.to_excel('CompanyProfit.xlsx', index=False)\n",
    "graph2.to_excel('GroupedSales.xlsx', index=False)\n",
    "graph3.to_excel('TotalItems.xlsx', index=False)\n"
   ]
  }
 ],
 "metadata": {
  "kernelspec": {
   "display_name": "base",
   "language": "python",
   "name": "python3"
  },
  "language_info": {
   "codemirror_mode": {
    "name": "ipython",
    "version": 3
   },
   "file_extension": ".py",
   "mimetype": "text/x-python",
   "name": "python",
   "nbconvert_exporter": "python",
   "pygments_lexer": "ipython3",
   "version": "3.11.5"
  }
 },
 "nbformat": 4,
 "nbformat_minor": 2
}
